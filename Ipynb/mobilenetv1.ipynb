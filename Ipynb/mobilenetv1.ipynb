{
 "cells": [
  {
   "cell_type": "markdown",
   "id": "d3acf47b",
   "metadata": {},
   "source": [
    "## EXPLORING IMAGE EXTRACTION USING MOBILENETV1\n",
    "jadi disini bakal coba ekstrak kolom image_url dari Cleaned_DropNull.csv dataset  "
   ]
  },
  {
   "cell_type": "code",
   "execution_count": 2,
   "id": "0c2234a7",
   "metadata": {},
   "outputs": [
    {
     "name": "stdout",
     "output_type": "stream",
     "text": [
      "Dataset berhasil dimuat.\n",
      "------------------------------\n",
      "Total baris dalam dataset: 16526\n",
      "Jumlah baris dengan image_url: 16526\n",
      "Jumlah image_url unik: 16208\n"
     ]
    }
   ],
   "source": [
    "import pandas as pd\n",
    "\n",
    "# Tentukan path ke file dataset Anda\n",
    "file_path = r'E:\\$7th\\TA\\Eksploring_TF-IDF\\DATA\\Cleaned_DropNull.csv'\n",
    "\n",
    "# Muat dataset ke dalam DataFrame pandas\n",
    "try:\n",
    "    df = pd.read_csv(file_path)\n",
    "    print(\"Dataset berhasil dimuat.\")\n",
    "    print(\"-\" * 30)\n",
    "    \n",
    "    # Cek ringkasan dataset\n",
    "    total_rows = len(df)\n",
    "    image_url_count = df['image_url'].notna().sum()\n",
    "    unique_image_url_count = df['image_url'].nunique()\n",
    "\n",
    "    print(f\"Total baris dalam dataset: {total_rows}\")\n",
    "    print(f\"Jumlah baris dengan image_url: {image_url_count}\")\n",
    "    print(f\"Jumlah image_url unik: {unique_image_url_count}\")\n",
    "    \n",
    "except FileNotFoundError:\n",
    "    print(f\"ERROR: File tidak ditemukan di path '{file_path}'. Mohon periksa kembali path file Anda.\")"
   ]
  },
  {
   "cell_type": "markdown",
   "id": "3f533b7a",
   "metadata": {},
   "source": [
    "### DOWNLOAD GAMBAR\n",
    "nanti download gambar dari image_url"
   ]
  },
  {
   "cell_type": "code",
   "execution_count": 14,
   "id": "31dfc80d",
   "metadata": {},
   "outputs": [
    {
     "ename": "ImportError",
     "evalue": "cannot import name 'using_string_dtype' from 'pandas._config' (c:\\Users\\LEGION\\AppData\\Local\\Programs\\Python\\Python313\\Lib\\site-packages\\pandas\\_config\\__init__.py)",
     "output_type": "error",
     "traceback": [
      "\u001b[1;31m---------------------------------------------------------------------------\u001b[0m",
      "\u001b[1;31mImportError\u001b[0m                               Traceback (most recent call last)",
      "Cell \u001b[1;32mIn[14], line 3\u001b[0m\n\u001b[0;32m      1\u001b[0m \u001b[38;5;28;01mimport\u001b[39;00m\u001b[38;5;250m \u001b[39m\u001b[38;5;21;01mos\u001b[39;00m\n\u001b[0;32m      2\u001b[0m \u001b[38;5;28;01mimport\u001b[39;00m\u001b[38;5;250m \u001b[39m\u001b[38;5;21;01mrequests\u001b[39;00m\n\u001b[1;32m----> 3\u001b[0m \u001b[38;5;28;01mimport\u001b[39;00m\u001b[38;5;250m \u001b[39m\u001b[38;5;21;01mpandas\u001b[39;00m\u001b[38;5;250m \u001b[39m\u001b[38;5;28;01mas\u001b[39;00m\u001b[38;5;250m \u001b[39m\u001b[38;5;21;01mpd\u001b[39;00m\n\u001b[0;32m      4\u001b[0m \u001b[38;5;28;01mfrom\u001b[39;00m\u001b[38;5;250m \u001b[39m\u001b[38;5;21;01mtqdm\u001b[39;00m\u001b[38;5;250m \u001b[39m\u001b[38;5;28;01mimport\u001b[39;00m tqdm\n",
      "File \u001b[1;32mc:\\Users\\LEGION\\AppData\\Local\\Programs\\Python\\Python313\\Lib\\site-packages\\pandas\\__init__.py:61\u001b[0m\n\u001b[0;32m     58\u001b[0m \u001b[38;5;66;03m# let init-time option registration happen\u001b[39;00m\n\u001b[0;32m     59\u001b[0m \u001b[38;5;28;01mimport\u001b[39;00m\u001b[38;5;250m \u001b[39m\u001b[38;5;21;01mpandas\u001b[39;00m\u001b[38;5;21;01m.\u001b[39;00m\u001b[38;5;21;01mcore\u001b[39;00m\u001b[38;5;21;01m.\u001b[39;00m\u001b[38;5;21;01mconfig_init\u001b[39;00m  \u001b[38;5;66;03m# pyright: ignore[reportUnusedImport] # noqa: F401\u001b[39;00m\n\u001b[1;32m---> 61\u001b[0m \u001b[38;5;28;01mfrom\u001b[39;00m\u001b[38;5;250m \u001b[39m\u001b[38;5;21;01mpandas\u001b[39;00m\u001b[38;5;21;01m.\u001b[39;00m\u001b[38;5;21;01mcore\u001b[39;00m\u001b[38;5;21;01m.\u001b[39;00m\u001b[38;5;21;01mapi\u001b[39;00m\u001b[38;5;250m \u001b[39m\u001b[38;5;28;01mimport\u001b[39;00m (\n\u001b[0;32m     62\u001b[0m     \u001b[38;5;66;03m# dtype\u001b[39;00m\n\u001b[0;32m     63\u001b[0m     ArrowDtype,\n\u001b[0;32m     64\u001b[0m     Int8Dtype,\n\u001b[0;32m     65\u001b[0m     Int16Dtype,\n\u001b[0;32m     66\u001b[0m     Int32Dtype,\n\u001b[0;32m     67\u001b[0m     Int64Dtype,\n\u001b[0;32m     68\u001b[0m     UInt8Dtype,\n\u001b[0;32m     69\u001b[0m     UInt16Dtype,\n\u001b[0;32m     70\u001b[0m     UInt32Dtype,\n\u001b[0;32m     71\u001b[0m     UInt64Dtype,\n\u001b[0;32m     72\u001b[0m     Float32Dtype,\n\u001b[0;32m     73\u001b[0m     Float64Dtype,\n\u001b[0;32m     74\u001b[0m     CategoricalDtype,\n\u001b[0;32m     75\u001b[0m     PeriodDtype,\n\u001b[0;32m     76\u001b[0m     IntervalDtype,\n\u001b[0;32m     77\u001b[0m     DatetimeTZDtype,\n\u001b[0;32m     78\u001b[0m     StringDtype,\n\u001b[0;32m     79\u001b[0m     BooleanDtype,\n\u001b[0;32m     80\u001b[0m     \u001b[38;5;66;03m# missing\u001b[39;00m\n\u001b[0;32m     81\u001b[0m     NA,\n\u001b[0;32m     82\u001b[0m     isna,\n\u001b[0;32m     83\u001b[0m     isnull,\n\u001b[0;32m     84\u001b[0m     notna,\n\u001b[0;32m     85\u001b[0m     notnull,\n\u001b[0;32m     86\u001b[0m     \u001b[38;5;66;03m# indexes\u001b[39;00m\n\u001b[0;32m     87\u001b[0m     Index,\n\u001b[0;32m     88\u001b[0m     CategoricalIndex,\n\u001b[0;32m     89\u001b[0m     RangeIndex,\n\u001b[0;32m     90\u001b[0m     MultiIndex,\n\u001b[0;32m     91\u001b[0m     IntervalIndex,\n\u001b[0;32m     92\u001b[0m     TimedeltaIndex,\n\u001b[0;32m     93\u001b[0m     DatetimeIndex,\n\u001b[0;32m     94\u001b[0m     PeriodIndex,\n\u001b[0;32m     95\u001b[0m     IndexSlice,\n\u001b[0;32m     96\u001b[0m     \u001b[38;5;66;03m# tseries\u001b[39;00m\n\u001b[0;32m     97\u001b[0m     NaT,\n\u001b[0;32m     98\u001b[0m     Period,\n\u001b[0;32m     99\u001b[0m     period_range,\n\u001b[0;32m    100\u001b[0m     Timedelta,\n\u001b[0;32m    101\u001b[0m     timedelta_range,\n\u001b[0;32m    102\u001b[0m     Timestamp,\n\u001b[0;32m    103\u001b[0m     date_range,\n\u001b[0;32m    104\u001b[0m     bdate_range,\n\u001b[0;32m    105\u001b[0m     Interval,\n\u001b[0;32m    106\u001b[0m     interval_range,\n\u001b[0;32m    107\u001b[0m     DateOffset,\n\u001b[0;32m    108\u001b[0m     \u001b[38;5;66;03m# conversion\u001b[39;00m\n\u001b[0;32m    109\u001b[0m     to_numeric,\n\u001b[0;32m    110\u001b[0m     to_datetime,\n\u001b[0;32m    111\u001b[0m     to_timedelta,\n\u001b[0;32m    112\u001b[0m     \u001b[38;5;66;03m# misc\u001b[39;00m\n\u001b[0;32m    113\u001b[0m     Flags,\n\u001b[0;32m    114\u001b[0m     Grouper,\n\u001b[0;32m    115\u001b[0m     factorize,\n\u001b[0;32m    116\u001b[0m     unique,\n\u001b[0;32m    117\u001b[0m     value_counts,\n\u001b[0;32m    118\u001b[0m     NamedAgg,\n\u001b[0;32m    119\u001b[0m     array,\n\u001b[0;32m    120\u001b[0m     Categorical,\n\u001b[0;32m    121\u001b[0m     set_eng_float_format,\n\u001b[0;32m    122\u001b[0m     Series,\n\u001b[0;32m    123\u001b[0m     DataFrame,\n\u001b[0;32m    124\u001b[0m )\n\u001b[0;32m    126\u001b[0m \u001b[38;5;28;01mfrom\u001b[39;00m\u001b[38;5;250m \u001b[39m\u001b[38;5;21;01mpandas\u001b[39;00m\u001b[38;5;21;01m.\u001b[39;00m\u001b[38;5;21;01mcore\u001b[39;00m\u001b[38;5;21;01m.\u001b[39;00m\u001b[38;5;21;01mdtypes\u001b[39;00m\u001b[38;5;21;01m.\u001b[39;00m\u001b[38;5;21;01mdtypes\u001b[39;00m\u001b[38;5;250m \u001b[39m\u001b[38;5;28;01mimport\u001b[39;00m SparseDtype\n\u001b[0;32m    128\u001b[0m \u001b[38;5;28;01mfrom\u001b[39;00m\u001b[38;5;250m \u001b[39m\u001b[38;5;21;01mpandas\u001b[39;00m\u001b[38;5;21;01m.\u001b[39;00m\u001b[38;5;21;01mtseries\u001b[39;00m\u001b[38;5;21;01m.\u001b[39;00m\u001b[38;5;21;01mapi\u001b[39;00m\u001b[38;5;250m \u001b[39m\u001b[38;5;28;01mimport\u001b[39;00m infer_freq\n",
      "File \u001b[1;32mc:\\Users\\LEGION\\AppData\\Local\\Programs\\Python\\Python313\\Lib\\site-packages\\pandas\\core\\api.py:28\u001b[0m\n\u001b[0;32m     16\u001b[0m \u001b[38;5;28;01mfrom\u001b[39;00m\u001b[38;5;250m \u001b[39m\u001b[38;5;21;01mpandas\u001b[39;00m\u001b[38;5;21;01m.\u001b[39;00m\u001b[38;5;21;01mcore\u001b[39;00m\u001b[38;5;21;01m.\u001b[39;00m\u001b[38;5;21;01mdtypes\u001b[39;00m\u001b[38;5;21;01m.\u001b[39;00m\u001b[38;5;21;01mmissing\u001b[39;00m\u001b[38;5;250m \u001b[39m\u001b[38;5;28;01mimport\u001b[39;00m (\n\u001b[0;32m     17\u001b[0m     isna,\n\u001b[0;32m     18\u001b[0m     isnull,\n\u001b[0;32m     19\u001b[0m     notna,\n\u001b[0;32m     20\u001b[0m     notnull,\n\u001b[0;32m     21\u001b[0m )\n\u001b[0;32m     23\u001b[0m \u001b[38;5;28;01mfrom\u001b[39;00m\u001b[38;5;250m \u001b[39m\u001b[38;5;21;01mpandas\u001b[39;00m\u001b[38;5;21;01m.\u001b[39;00m\u001b[38;5;21;01mcore\u001b[39;00m\u001b[38;5;21;01m.\u001b[39;00m\u001b[38;5;21;01malgorithms\u001b[39;00m\u001b[38;5;250m \u001b[39m\u001b[38;5;28;01mimport\u001b[39;00m (\n\u001b[0;32m     24\u001b[0m     factorize,\n\u001b[0;32m     25\u001b[0m     unique,\n\u001b[0;32m     26\u001b[0m     value_counts,\n\u001b[0;32m     27\u001b[0m )\n\u001b[1;32m---> 28\u001b[0m \u001b[38;5;28;01mfrom\u001b[39;00m\u001b[38;5;250m \u001b[39m\u001b[38;5;21;01mpandas\u001b[39;00m\u001b[38;5;21;01m.\u001b[39;00m\u001b[38;5;21;01mcore\u001b[39;00m\u001b[38;5;21;01m.\u001b[39;00m\u001b[38;5;21;01marrays\u001b[39;00m\u001b[38;5;250m \u001b[39m\u001b[38;5;28;01mimport\u001b[39;00m Categorical\n\u001b[0;32m     29\u001b[0m \u001b[38;5;28;01mfrom\u001b[39;00m\u001b[38;5;250m \u001b[39m\u001b[38;5;21;01mpandas\u001b[39;00m\u001b[38;5;21;01m.\u001b[39;00m\u001b[38;5;21;01mcore\u001b[39;00m\u001b[38;5;21;01m.\u001b[39;00m\u001b[38;5;21;01marrays\u001b[39;00m\u001b[38;5;21;01m.\u001b[39;00m\u001b[38;5;21;01mboolean\u001b[39;00m\u001b[38;5;250m \u001b[39m\u001b[38;5;28;01mimport\u001b[39;00m BooleanDtype\n\u001b[0;32m     30\u001b[0m \u001b[38;5;28;01mfrom\u001b[39;00m\u001b[38;5;250m \u001b[39m\u001b[38;5;21;01mpandas\u001b[39;00m\u001b[38;5;21;01m.\u001b[39;00m\u001b[38;5;21;01mcore\u001b[39;00m\u001b[38;5;21;01m.\u001b[39;00m\u001b[38;5;21;01marrays\u001b[39;00m\u001b[38;5;21;01m.\u001b[39;00m\u001b[38;5;21;01mfloating\u001b[39;00m\u001b[38;5;250m \u001b[39m\u001b[38;5;28;01mimport\u001b[39;00m (\n\u001b[0;32m     31\u001b[0m     Float32Dtype,\n\u001b[0;32m     32\u001b[0m     Float64Dtype,\n\u001b[0;32m     33\u001b[0m )\n",
      "File \u001b[1;32mc:\\Users\\LEGION\\AppData\\Local\\Programs\\Python\\Python313\\Lib\\site-packages\\pandas\\core\\arrays\\__init__.py:9\u001b[0m\n\u001b[0;32m      7\u001b[0m \u001b[38;5;28;01mfrom\u001b[39;00m\u001b[38;5;250m \u001b[39m\u001b[38;5;21;01mpandas\u001b[39;00m\u001b[38;5;21;01m.\u001b[39;00m\u001b[38;5;21;01mcore\u001b[39;00m\u001b[38;5;21;01m.\u001b[39;00m\u001b[38;5;21;01marrays\u001b[39;00m\u001b[38;5;21;01m.\u001b[39;00m\u001b[38;5;21;01mboolean\u001b[39;00m\u001b[38;5;250m \u001b[39m\u001b[38;5;28;01mimport\u001b[39;00m BooleanArray\n\u001b[0;32m      8\u001b[0m \u001b[38;5;28;01mfrom\u001b[39;00m\u001b[38;5;250m \u001b[39m\u001b[38;5;21;01mpandas\u001b[39;00m\u001b[38;5;21;01m.\u001b[39;00m\u001b[38;5;21;01mcore\u001b[39;00m\u001b[38;5;21;01m.\u001b[39;00m\u001b[38;5;21;01marrays\u001b[39;00m\u001b[38;5;21;01m.\u001b[39;00m\u001b[38;5;21;01mcategorical\u001b[39;00m\u001b[38;5;250m \u001b[39m\u001b[38;5;28;01mimport\u001b[39;00m Categorical\n\u001b[1;32m----> 9\u001b[0m \u001b[38;5;28;01mfrom\u001b[39;00m\u001b[38;5;250m \u001b[39m\u001b[38;5;21;01mpandas\u001b[39;00m\u001b[38;5;21;01m.\u001b[39;00m\u001b[38;5;21;01mcore\u001b[39;00m\u001b[38;5;21;01m.\u001b[39;00m\u001b[38;5;21;01marrays\u001b[39;00m\u001b[38;5;21;01m.\u001b[39;00m\u001b[38;5;21;01mdatetimes\u001b[39;00m\u001b[38;5;250m \u001b[39m\u001b[38;5;28;01mimport\u001b[39;00m DatetimeArray\n\u001b[0;32m     10\u001b[0m \u001b[38;5;28;01mfrom\u001b[39;00m\u001b[38;5;250m \u001b[39m\u001b[38;5;21;01mpandas\u001b[39;00m\u001b[38;5;21;01m.\u001b[39;00m\u001b[38;5;21;01mcore\u001b[39;00m\u001b[38;5;21;01m.\u001b[39;00m\u001b[38;5;21;01marrays\u001b[39;00m\u001b[38;5;21;01m.\u001b[39;00m\u001b[38;5;21;01mfloating\u001b[39;00m\u001b[38;5;250m \u001b[39m\u001b[38;5;28;01mimport\u001b[39;00m FloatingArray\n\u001b[0;32m     11\u001b[0m \u001b[38;5;28;01mfrom\u001b[39;00m\u001b[38;5;250m \u001b[39m\u001b[38;5;21;01mpandas\u001b[39;00m\u001b[38;5;21;01m.\u001b[39;00m\u001b[38;5;21;01mcore\u001b[39;00m\u001b[38;5;21;01m.\u001b[39;00m\u001b[38;5;21;01marrays\u001b[39;00m\u001b[38;5;21;01m.\u001b[39;00m\u001b[38;5;21;01minteger\u001b[39;00m\u001b[38;5;250m \u001b[39m\u001b[38;5;28;01mimport\u001b[39;00m IntegerArray\n",
      "File \u001b[1;32mc:\\Users\\LEGION\\AppData\\Local\\Programs\\Python\\Python313\\Lib\\site-packages\\pandas\\core\\arrays\\datetimes.py:17\u001b[0m\n\u001b[0;32m     13\u001b[0m \u001b[38;5;28;01mimport\u001b[39;00m\u001b[38;5;250m \u001b[39m\u001b[38;5;21;01mwarnings\u001b[39;00m\n\u001b[0;32m     15\u001b[0m \u001b[38;5;28;01mimport\u001b[39;00m\u001b[38;5;250m \u001b[39m\u001b[38;5;21;01mnumpy\u001b[39;00m\u001b[38;5;250m \u001b[39m\u001b[38;5;28;01mas\u001b[39;00m\u001b[38;5;250m \u001b[39m\u001b[38;5;21;01mnp\u001b[39;00m\n\u001b[1;32m---> 17\u001b[0m \u001b[38;5;28;01mfrom\u001b[39;00m\u001b[38;5;250m \u001b[39m\u001b[38;5;21;01mpandas\u001b[39;00m\u001b[38;5;21;01m.\u001b[39;00m\u001b[38;5;21;01m_config\u001b[39;00m\u001b[38;5;250m \u001b[39m\u001b[38;5;28;01mimport\u001b[39;00m using_string_dtype\n\u001b[0;32m     19\u001b[0m \u001b[38;5;28;01mfrom\u001b[39;00m\u001b[38;5;250m \u001b[39m\u001b[38;5;21;01mpandas\u001b[39;00m\u001b[38;5;21;01m.\u001b[39;00m\u001b[38;5;21;01m_libs\u001b[39;00m\u001b[38;5;250m \u001b[39m\u001b[38;5;28;01mimport\u001b[39;00m (\n\u001b[0;32m     20\u001b[0m     lib,\n\u001b[0;32m     21\u001b[0m     tslib,\n\u001b[0;32m     22\u001b[0m )\n\u001b[0;32m     23\u001b[0m \u001b[38;5;28;01mfrom\u001b[39;00m\u001b[38;5;250m \u001b[39m\u001b[38;5;21;01mpandas\u001b[39;00m\u001b[38;5;21;01m.\u001b[39;00m\u001b[38;5;21;01m_libs\u001b[39;00m\u001b[38;5;21;01m.\u001b[39;00m\u001b[38;5;21;01mtslibs\u001b[39;00m\u001b[38;5;250m \u001b[39m\u001b[38;5;28;01mimport\u001b[39;00m (\n\u001b[0;32m     24\u001b[0m     BaseOffset,\n\u001b[0;32m     25\u001b[0m     NaT,\n\u001b[1;32m   (...)\u001b[0m\n\u001b[0;32m     42\u001b[0m     tzconversion,\n\u001b[0;32m     43\u001b[0m )\n",
      "\u001b[1;31mImportError\u001b[0m: cannot import name 'using_string_dtype' from 'pandas._config' (c:\\Users\\LEGION\\AppData\\Local\\Programs\\Python\\Python313\\Lib\\site-packages\\pandas\\_config\\__init__.py)"
     ]
    }
   ],
   "source": [
    "import os\n",
    "import requests\n",
    "import pandas as pd\n",
    "from tqdm import tqdm"
   ]
  },
  {
   "cell_type": "code",
   "execution_count": null,
   "id": "6b164e99",
   "metadata": {},
   "outputs": [
    {
     "name": "stdout",
     "output_type": "stream",
     "text": [
      "Gambar akan disimpan di folder: E:\\$7th\\TA\\Eksploring_TF-IDF\\DATA\\image_url\n"
     ]
    },
    {
     "name": "stderr",
     "output_type": "stream",
     "text": [
      "Downloading Images:  72%|███████▏  | 11877/16526 [1:55:18<1:05:54,  1.18it/s]"
     ]
    }
   ],
   "source": [
    "\n",
    "\n",
    "# Pastikan Anda sudah menjalankan cell pertama dan memiliki DataFrame 'df'\n",
    "\n",
    "# --- Setup Folder Penyimpanan ---\n",
    "# Tentukan path folder untuk menyimpan gambar\n",
    "save_dir = r'E:\\$7th\\TA\\Eksploring_TF-IDF\\DATA\\image_url'\n",
    "\n",
    "# Buat folder jika belum ada, exist_ok=True berarti tidak akan error jika folder sudah ada\n",
    "os.makedirs(save_dir, exist_ok=True)\n",
    "print(f\"Gambar akan disimpan di folder: {save_dir}\")\n",
    "\n",
    "\n",
    "# --- Fungsi untuk Mengunduh Satu Gambar ---\n",
    "def download_image(row):\n",
    "    # Ambil URL dari baris saat ini\n",
    "    url = row['image_url']\n",
    "    \n",
    "    # Periksa apakah URL valid\n",
    "    if not isinstance(url, str) or not url.startswith('http'):\n",
    "        return 'invalid_url'\n",
    "        \n",
    "    try:\n",
    "        # Buat nama file unik berdasarkan indeks baris DataFrame\n",
    "        # .name akan mengambil nilai index saat menggunakan .apply()\n",
    "        filename = f\"{row.name}.jpg\"\n",
    "        save_path = os.path.join(save_dir, filename)\n",
    "        \n",
    "        # Lakukan request untuk mengunduh gambar, timeout 15 detik\n",
    "        response = requests.get(url, stream=True, timeout=15)\n",
    "        \n",
    "        # Jika request berhasil (kode status 200)\n",
    "        if response.status_code == 200:\n",
    "            with open(save_path, 'wb') as f:\n",
    "                f.write(response.content)\n",
    "            return save_path # Kembalikan path file lokal jika berhasil\n",
    "        else:\n",
    "            return f'http_error_{response.status_code}'\n",
    "            \n",
    "    except requests.exceptions.RequestException as e:\n",
    "        # Tangani error koneksi, timeout, dll.\n",
    "        return 'download_failed'\n",
    "\n",
    "# --- Terapkan Fungsi Download ke Setiap Baris ---\n",
    "# Inisialisasi tqdm untuk pandas\n",
    "tqdm.pandas(desc=\"Downloading Images\")\n",
    "\n",
    "# Terapkan fungsi download_image ke setiap baris di DataFrame (axis=1)\n",
    "# Hasilnya (path file lokal atau status error) akan disimpan di kolom baru 'local_path'\n",
    "df['local_path'] = df.progress_apply(download_image, axis=1)\n",
    "\n",
    "\n",
    "# --- Tampilkan Ringkasan Hasil Download ---\n",
    "print(\"\\nProses pengunduhan selesai.\")\n",
    "print(\"-\" * 30)\n",
    "\n",
    "# Hitung jumlah gambar yang berhasil diunduh\n",
    "# (yaitu yang path-nya diawali dengan save_dir dan bukan status error)\n",
    "success_count = df['local_path'].str.startswith(save_dir, na=False).sum()\n",
    "total_images = df['image_url'].notna().sum()\n",
    "\n",
    "print(f\"Total URL gambar yang valid: {total_images}\")\n",
    "print(f\"Berhasil diunduh: {success_count}\")\n",
    "print(f\"Gagal diunduh: {total_images - success_count}\")\n",
    "\n",
    "print(\"\\n5 baris pertama data dengan path gambar lokal:\")\n",
    "print(df.head())"
   ]
  },
  {
   "cell_type": "markdown",
   "id": "b5dc0d45",
   "metadata": {},
   "source": [
    "## CHECK TOTAL IMAGE"
   ]
  },
  {
   "cell_type": "code",
   "execution_count": 6,
   "id": "9a79e6e8",
   "metadata": {},
   "outputs": [
    {
     "name": "stdout",
     "output_type": "stream",
     "text": [
      "Jumlah gambar ditemukan: 16312\n",
      "Index range: 0 sampai 16525\n"
     ]
    },
    {
     "ename": "NameError",
     "evalue": "name 'pd' is not defined",
     "output_type": "error",
     "traceback": [
      "\u001b[1;31m---------------------------------------------------------------------------\u001b[0m",
      "\u001b[1;31mNameError\u001b[0m                                 Traceback (most recent call last)",
      "Cell \u001b[1;32mIn[6], line 15\u001b[0m\n\u001b[0;32m     13\u001b[0m \u001b[38;5;66;03m# --- 2. Load dataset asli ---\u001b[39;00m\n\u001b[0;32m     14\u001b[0m csv_asli \u001b[38;5;241m=\u001b[39m \u001b[38;5;124mr\u001b[39m\u001b[38;5;124m'\u001b[39m\u001b[38;5;124mE:\u001b[39m\u001b[38;5;124m\\\u001b[39m\u001b[38;5;124m$7th\u001b[39m\u001b[38;5;124m\\\u001b[39m\u001b[38;5;124mTA\u001b[39m\u001b[38;5;124m\\\u001b[39m\u001b[38;5;124mEksploring_TF-IDF\u001b[39m\u001b[38;5;124m\\\u001b[39m\u001b[38;5;124mDATA\u001b[39m\u001b[38;5;124m\\\u001b[39m\u001b[38;5;124mCleaned_Text_Asli.csv\u001b[39m\u001b[38;5;124m'\u001b[39m\n\u001b[1;32m---> 15\u001b[0m df \u001b[38;5;241m=\u001b[39m \u001b[43mpd\u001b[49m\u001b[38;5;241m.\u001b[39mread_csv(csv_asli)\n\u001b[0;32m     17\u001b[0m \u001b[38;5;28mprint\u001b[39m(\u001b[38;5;124m\"\u001b[39m\u001b[38;5;124mJumlah row awal:\u001b[39m\u001b[38;5;124m\"\u001b[39m, \u001b[38;5;28mlen\u001b[39m(df))\n\u001b[0;32m     19\u001b[0m \u001b[38;5;66;03m# --- 3. Drop row yang tidak ada gambarnya ---\u001b[39;00m\n",
      "\u001b[1;31mNameError\u001b[0m: name 'pd' is not defined"
     ]
    }
   ],
   "source": [
    "import os\n",
    "\n",
    "# --- 1. Ambil semua index gambar yang ada ---\n",
    "img_dir = r'E:\\$7th\\TA\\Eksploring_TF-IDF\\DATA\\image_url'\n",
    "valid_ext = {\".jpg\"}\n",
    "\n",
    "image_files = [f for f in os.listdir(img_dir) if os.path.splitext(f)[1].lower() in valid_ext]\n",
    "image_indices = sorted([int(os.path.splitext(f)[0]) for f in image_files if os.path.splitext(f)[0].isdigit()])\n",
    "\n",
    "print(\"Jumlah gambar ditemukan:\", len(image_indices))\n",
    "print(\"Index range:\", min(image_indices), \"sampai\", max(image_indices))\n",
    "\n",
    "# --- 2. Load dataset asli ---\n",
    "csv_asli = r'E:\\$7th\\TA\\Eksploring_TF-IDF\\DATA\\Cleaned_Text_Asli.csv'\n",
    "df = pd.read_csv(csv_asli)\n",
    "\n",
    "print(\"Jumlah row awal:\", len(df))\n",
    "\n",
    "# --- 3. Drop row yang tidak ada gambarnya ---\n",
    "df_cleaned = df[df.index.isin(image_indices)].copy()\n",
    "\n",
    "print(\"Jumlah row setelah drop:\", len(df_cleaned))\n",
    "print(\"Total row yang dibuang:\", len(df) - len(df_cleaned))\n",
    "\n",
    "# --- 4. Simpan hasil ---\n",
    "csv_output = r'E:\\$7th\\TA\\Eksploring_TF-IDF\\DATA\\Cleaned_Text.csv'\n",
    "df_cleaned.to_csv(csv_output, index=False)\n",
    "\n",
    "print(\"File baru disimpan di:\", csv_output)\n"
   ]
  }
 ],
 "metadata": {
  "kernelspec": {
   "display_name": "Python 3",
   "language": "python",
   "name": "python3"
  },
  "language_info": {
   "codemirror_mode": {
    "name": "ipython",
    "version": 3
   },
   "file_extension": ".py",
   "mimetype": "text/x-python",
   "name": "python",
   "nbconvert_exporter": "python",
   "pygments_lexer": "ipython3",
   "version": "3.13.1"
  }
 },
 "nbformat": 4,
 "nbformat_minor": 5
}
