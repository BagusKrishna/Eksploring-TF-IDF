{
 "cells": [
  {
   "cell_type": "markdown",
   "id": "d3acf47b",
   "metadata": {},
   "source": [
    "## EXPLORING IMAGE EXTRACTION USING MOBILENETV1\n",
    "jadi disini bakal coba ekstrak kolom image_url dari Cleaned_DropNull.csv dataset  "
   ]
  },
  {
   "cell_type": "code",
   "execution_count": 2,
   "id": "0c2234a7",
   "metadata": {},
   "outputs": [
    {
     "name": "stdout",
     "output_type": "stream",
     "text": [
      "Dataset berhasil dimuat.\n",
      "------------------------------\n",
      "Total baris dalam dataset: 16526\n",
      "Jumlah baris dengan image_url: 16526\n",
      "Jumlah image_url unik: 16208\n"
     ]
    }
   ],
   "source": [
    "import pandas as pd\n",
    "\n",
    "# Tentukan path ke file dataset Anda\n",
    "file_path = r'E:\\$7th\\TA\\Eksploring_TF-IDF\\DATA\\Cleaned_DropNull.csv'\n",
    "\n",
    "# Muat dataset ke dalam DataFrame pandas\n",
    "try:\n",
    "    df = pd.read_csv(file_path)\n",
    "    print(\"Dataset berhasil dimuat.\")\n",
    "    print(\"-\" * 30)\n",
    "    \n",
    "    # Cek ringkasan dataset\n",
    "    total_rows = len(df)\n",
    "    image_url_count = df['image_url'].notna().sum()\n",
    "    unique_image_url_count = df['image_url'].nunique()\n",
    "\n",
    "    print(f\"Total baris dalam dataset: {total_rows}\")\n",
    "    print(f\"Jumlah baris dengan image_url: {image_url_count}\")\n",
    "    print(f\"Jumlah image_url unik: {unique_image_url_count}\")\n",
    "    \n",
    "except FileNotFoundError:\n",
    "    print(f\"ERROR: File tidak ditemukan di path '{file_path}'. Mohon periksa kembali path file Anda.\")"
   ]
  },
  {
   "cell_type": "markdown",
   "id": "3f533b7a",
   "metadata": {},
   "source": [
    "### DOWNLOAD GAMBAR\n",
    "nanti download gambar dari image_url"
   ]
  },
  {
   "cell_type": "code",
   "execution_count": null,
   "id": "6b164e99",
   "metadata": {},
   "outputs": [
    {
     "name": "stdout",
     "output_type": "stream",
     "text": [
      "Gambar akan disimpan di folder: E:\\$7th\\TA\\Eksploring_TF-IDF\\DATA\\image_url\n"
     ]
    },
    {
     "name": "stderr",
     "output_type": "stream",
     "text": [
      "Downloading Images:  51%|█████     | 8401/16526 [1:21:07<1:24:22,  1.61it/s]"
     ]
    }
   ],
   "source": [
    "import os\n",
    "import requests\n",
    "import pandas as pd\n",
    "from tqdm import tqdm\n",
    "\n",
    "# Pastikan Anda sudah menjalankan cell pertama dan memiliki DataFrame 'df'\n",
    "\n",
    "# --- Setup Folder Penyimpanan ---\n",
    "# Tentukan path folder untuk menyimpan gambar\n",
    "save_dir = r'E:\\$7th\\TA\\Eksploring_TF-IDF\\DATA\\image_url'\n",
    "\n",
    "# Buat folder jika belum ada, exist_ok=True berarti tidak akan error jika folder sudah ada\n",
    "os.makedirs(save_dir, exist_ok=True)\n",
    "print(f\"Gambar akan disimpan di folder: {save_dir}\")\n",
    "\n",
    "\n",
    "# --- Fungsi untuk Mengunduh Satu Gambar ---\n",
    "def download_image(row):\n",
    "    # Ambil URL dari baris saat ini\n",
    "    url = row['image_url']\n",
    "    \n",
    "    # Periksa apakah URL valid\n",
    "    if not isinstance(url, str) or not url.startswith('http'):\n",
    "        return 'invalid_url'\n",
    "        \n",
    "    try:\n",
    "        # Buat nama file unik berdasarkan indeks baris DataFrame\n",
    "        # .name akan mengambil nilai index saat menggunakan .apply()\n",
    "        filename = f\"{row.name}.jpg\"\n",
    "        save_path = os.path.join(save_dir, filename)\n",
    "        \n",
    "        # Lakukan request untuk mengunduh gambar, timeout 15 detik\n",
    "        response = requests.get(url, stream=True, timeout=15)\n",
    "        \n",
    "        # Jika request berhasil (kode status 200)\n",
    "        if response.status_code == 200:\n",
    "            with open(save_path, 'wb') as f:\n",
    "                f.write(response.content)\n",
    "            return save_path # Kembalikan path file lokal jika berhasil\n",
    "        else:\n",
    "            return f'http_error_{response.status_code}'\n",
    "            \n",
    "    except requests.exceptions.RequestException as e:\n",
    "        # Tangani error koneksi, timeout, dll.\n",
    "        return 'download_failed'\n",
    "\n",
    "# --- Terapkan Fungsi Download ke Setiap Baris ---\n",
    "# Inisialisasi tqdm untuk pandas\n",
    "tqdm.pandas(desc=\"Downloading Images\")\n",
    "\n",
    "# Terapkan fungsi download_image ke setiap baris di DataFrame (axis=1)\n",
    "# Hasilnya (path file lokal atau status error) akan disimpan di kolom baru 'local_path'\n",
    "df['local_path'] = df.progress_apply(download_image, axis=1)\n",
    "\n",
    "\n",
    "# --- Tampilkan Ringkasan Hasil Download ---\n",
    "print(\"\\nProses pengunduhan selesai.\")\n",
    "print(\"-\" * 30)\n",
    "\n",
    "# Hitung jumlah gambar yang berhasil diunduh\n",
    "# (yaitu yang path-nya diawali dengan save_dir dan bukan status error)\n",
    "success_count = df['local_path'].str.startswith(save_dir, na=False).sum()\n",
    "total_images = df['image_url'].notna().sum()\n",
    "\n",
    "print(f\"Total URL gambar yang valid: {total_images}\")\n",
    "print(f\"Berhasil diunduh: {success_count}\")\n",
    "print(f\"Gagal diunduh: {total_images - success_count}\")\n",
    "\n",
    "print(\"\\n5 baris pertama data dengan path gambar lokal:\")\n",
    "print(df.head())"
   ]
  }
 ],
 "metadata": {
  "kernelspec": {
   "display_name": "Python 3",
   "language": "python",
   "name": "python3"
  },
  "language_info": {
   "codemirror_mode": {
    "name": "ipython",
    "version": 3
   },
   "file_extension": ".py",
   "mimetype": "text/x-python",
   "name": "python",
   "nbconvert_exporter": "python",
   "pygments_lexer": "ipython3",
   "version": "3.13.1"
  }
 },
 "nbformat": 4,
 "nbformat_minor": 5
}
