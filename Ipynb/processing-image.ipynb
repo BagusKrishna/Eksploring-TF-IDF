{
 "cells": [
  {
   "cell_type": "markdown",
   "id": "d3acf47b",
   "metadata": {},
   "source": [
    "# Processing IMAGE\n",
    "Ipynb yang ini untuk : \n",
    "1. Download image dari image_url -> save ke os (image didownload sesuai index)\n",
    "2. cek gambar yang gagal -> sesuaikan sama data clean_text\n",
    "3. cek mismatch drop index clean_text kalo ada gambar yang ga bisa terload"
   ]
  },
  {
   "cell_type": "markdown",
   "id": "b4e9602b",
   "metadata": {},
   "source": [
    "### CEK JUMLAH ROW IMAGE \n",
    "dari dataset cleaned_text_asli "
   ]
  },
  {
   "cell_type": "code",
   "execution_count": 14,
   "id": "0c2234a7",
   "metadata": {},
   "outputs": [
    {
     "name": "stdout",
     "output_type": "stream",
     "text": [
      "Dataset berhasil dimuat.\n",
      "------------------------------\n",
      "Total baris dalam dataset: 16526\n",
      "Jumlah baris dengan image_url: 16526\n",
      "Jumlah image_url unik: 16208\n"
     ]
    }
   ],
   "source": [
    "import pandas as pd\n",
    "\n",
    "# Tentukan path ke file dataset Anda\n",
    "file_path = r'E:\\$7th\\TA\\Multimodal_Process_Exploration\\DATA\\Cleaned_DropNull.csv'\n",
    "\n",
    "# Muat dataset ke dalam DataFrame pandas\n",
    "try:\n",
    "    df = pd.read_csv(file_path)\n",
    "    print(\"Dataset berhasil dimuat.\")\n",
    "    print(\"-\" * 30)\n",
    "    \n",
    "    # Cek ringkasan dataset\n",
    "    total_rows = len(df)\n",
    "    image_url_count = df['image_url'].notna().sum()\n",
    "    unique_image_url_count = df['image_url'].nunique()\n",
    "\n",
    "    print(f\"Total baris dalam dataset: {total_rows}\")\n",
    "    print(f\"Jumlah baris dengan image_url: {image_url_count}\")\n",
    "    print(f\"Jumlah image_url unik: {unique_image_url_count}\")\n",
    "    \n",
    "except FileNotFoundError:\n",
    "    print(f\"ERROR: File tidak ditemukan di path '{file_path}'. Mohon periksa kembali path file Anda.\")"
   ]
  },
  {
   "cell_type": "markdown",
   "id": "3f533b7a",
   "metadata": {},
   "source": [
    "### DOWNLOAD GAMBAR\n",
    "dari kolom image_url"
   ]
  },
  {
   "cell_type": "code",
   "execution_count": 1,
   "id": "31dfc80d",
   "metadata": {},
   "outputs": [],
   "source": [
    "import os\n",
    "import requests\n",
    "import pandas as pd\n",
    "from tqdm import tqdm"
   ]
  },
  {
   "cell_type": "code",
   "execution_count": null,
   "id": "6b164e99",
   "metadata": {},
   "outputs": [
    {
     "name": "stdout",
     "output_type": "stream",
     "text": [
      "Gambar akan disimpan di folder: E:\\$7th\\TA\\Multimodal_Process_Exploration\\DATA\\image_url\n"
     ]
    },
    {
     "name": "stderr",
     "output_type": "stream",
     "text": [
      "Downloading Images:  72%|███████▏  | 11877/16526 [1:55:18<1:05:54,  1.18it/s]"
     ]
    }
   ],
   "source": [
    "# --- Setup Folder Penyimpanan ---\n",
    "# Tentukan path folder untuk menyimpan gambar\n",
    "save_dir = r'E:\\$7th\\TA\\Multimodal_Process_Exploration\\DATA\\image_url'\n",
    "\n",
    "# Buat folder jika belum ada, exist_ok=True berarti tidak akan error jika folder sudah ada\n",
    "os.makedirs(save_dir, exist_ok=True)\n",
    "print(f\"Gambar akan disimpan di folder: {save_dir}\")\n",
    "\n",
    "\n",
    "# --- Fungsi untuk Mengunduh Satu Gambar ---\n",
    "def download_image(row):\n",
    "    # Ambil URL dari baris saat ini\n",
    "    url = row['image_url']\n",
    "    \n",
    "    # Periksa apakah URL valid\n",
    "    if not isinstance(url, str) or not url.startswith('http'):\n",
    "        return 'invalid_url'\n",
    "        \n",
    "    try:\n",
    "        # Buat nama file unik berdasarkan indeks baris DataFrame\n",
    "        # .name akan mengambil nilai index saat menggunakan .apply()\n",
    "        filename = f\"{row.name}.jpg\"\n",
    "        save_path = os.path.join(save_dir, filename)\n",
    "        \n",
    "        # Lakukan request untuk mengunduh gambar, timeout 15 detik\n",
    "        response = requests.get(url, stream=True, timeout=15)\n",
    "        \n",
    "        # Jika request berhasil (kode status 200)\n",
    "        if response.status_code == 200:\n",
    "            with open(save_path, 'wb') as f:\n",
    "                f.write(response.content)\n",
    "            return save_path # Kembalikan path file lokal jika berhasil\n",
    "        else:\n",
    "            return f'http_error_{response.status_code}'\n",
    "            \n",
    "    except requests.exceptions.RequestException as e:\n",
    "        # Tangani error koneksi, timeout, dll.\n",
    "        return 'download_failed'\n",
    "\n",
    "# --- Terapkan Fungsi Download ke Setiap Baris ---\n",
    "# Inisialisasi tqdm untuk pandas\n",
    "tqdm.pandas(desc=\"Downloading Images\")\n",
    "\n",
    "# Terapkan fungsi download_image ke setiap baris di DataFrame (axis=1)\n",
    "# Hasilnya (path file lokal atau status error) akan disimpan di kolom baru 'local_path'\n",
    "df['local_path'] = df.progress_apply(download_image, axis=1)\n",
    "\n",
    "\n",
    "# --- Tampilkan Ringkasan Hasil Download ---\n",
    "print(\"\\nProses pengunduhan selesai.\")\n",
    "print(\"-\" * 30)\n",
    "\n",
    "# Hitung jumlah gambar yang berhasil diunduh\n",
    "# (yaitu yang path-nya diawali dengan save_dir dan bukan status error)\n",
    "success_count = df['local_path'].str.startswith(save_dir, na=False).sum()\n",
    "total_images = df['image_url'].notna().sum()\n",
    "\n",
    "print(f\"Total URL gambar yang valid: {total_images}\")\n",
    "print(f\"Berhasil diunduh: {success_count}\")\n",
    "print(f\"Gagal diunduh: {total_images - success_count}\")\n",
    "\n",
    "print(\"\\n5 baris pertama data dengan path gambar lokal:\")\n",
    "print(df.head())"
   ]
  },
  {
   "cell_type": "markdown",
   "id": "b5dc0d45",
   "metadata": {},
   "source": [
    "### CHECK TOTAL IMAGE SETELAH DOWNLOAD\n",
    " (ada beberapa gambar yang missing / ga bisa ke download)"
   ]
  },
  {
   "cell_type": "code",
   "execution_count": 21,
   "id": "9a79e6e8",
   "metadata": {},
   "outputs": [
    {
     "name": "stdout",
     "output_type": "stream",
     "text": [
      "Total file gambar: 16305\n",
      "Jumlah gambar ditemukan dengan index berurutan: 16305\n",
      "Index range: 0 sampai 16525\n"
     ]
    }
   ],
   "source": [
    "import os \n",
    "\n",
    "# --- 1. Ambil semua index gambar yang ada ---\n",
    "img_dir = r'E:\\$7th\\TA\\Multimodal_Process_Exploration\\DATA\\image_url'\n",
    "valid_ext = {\".jpg\"}\n",
    "\n",
    "\n",
    "image_files = [f for f in os.listdir(img_dir) if os.path.splitext(f)[1].lower() in valid_ext]\n",
    "image_indices = sorted([int(os.path.splitext(f)[0]) for f in image_files if os.path.splitext(f)[0].isdigit()])\n",
    "\n",
    "print(\"Total file gambar:\", len(image_files))\n",
    "print(\"Jumlah gambar ditemukan dengan index berurutan:\", len(image_indices))\n",
    "print(\"Index range:\", min(image_indices), \"sampai\", max(image_indices))\n",
    "\n"
   ]
  },
  {
   "cell_type": "markdown",
   "id": "d8b0a82a",
   "metadata": {},
   "source": [
    "### DROP ROW CLEAN_TEXT based on IMAGE\n",
    "karena ada yang missing text yang sudah di clean juga di drop based on index yang missing di image. --\n",
    "\n",
    "tujuannya agar index image dan text masih selaras"
   ]
  },
  {
   "cell_type": "code",
   "execution_count": 22,
   "id": "c8f2a7df",
   "metadata": {},
   "outputs": [
    {
     "name": "stdout",
     "output_type": "stream",
     "text": [
      "Jumlah row awal: 16526\n",
      "Jumlah row setelah drop: 16305\n",
      "Total row yang dibuang: 221\n",
      "File baru disimpan di: E:\\$7th\\TA\\Multimodal_Process_Exploration\\DATA\\Cleaned_Text.csv\n"
     ]
    },
    {
     "data": {
      "text/plain": [
       "Index(['full_text', 'clean_text', 'tweet_url', 'image_url', 'user_id_str',\n",
       "       'conversation_id_str', 'created_at', 'MM/DD/YYYY', 'age_account',\n",
       "       'username', 'official_account', 'verified_account', 'quote_count',\n",
       "       'reply_count', 'retweet_count', 'favorite_count', 'followers_count',\n",
       "       'image_corelation', 'Label'],\n",
       "      dtype='object')"
      ]
     },
     "execution_count": 22,
     "metadata": {},
     "output_type": "execute_result"
    }
   ],
   "source": [
    "\n",
    "# --- 2. Load dataset asli ---\n",
    "csv_asli = r'E:\\$7th\\TA\\Multimodal_Process_Exploration\\DATA\\Cleaned_Text.csv'\n",
    "df = pd.read_csv(csv_asli)\n",
    "\n",
    "print(\"Jumlah row awal:\", len(df))\n",
    "\n",
    "# --- 3. Drop row yang tidak ada gambarnya ---\n",
    "df_cleaned = df[df.index.isin(image_indices)].copy()\n",
    "\n",
    "print(\"Jumlah row setelah drop:\", len(df_cleaned))\n",
    "print(\"Total row yang dibuang:\", len(df) - len(df_cleaned))\n",
    "\n",
    "# --- 4. Simpan hasil (index asli tetap ikut disimpan) ---\n",
    "csv_output = r'E:\\$7th\\TA\\Multimodal_Process_Exploration\\DATA\\Cleaned_Text.csv'\n",
    "df_cleaned.to_csv(csv_output, index=True)   # index disimpan di CSV\n",
    "\n",
    "print(\"File baru disimpan di:\", csv_output)\n",
    "\n",
    "df_cleaned.columns"
   ]
  },
  {
   "cell_type": "markdown",
   "id": "8f12c4d8",
   "metadata": {},
   "source": [
    "### CEK MISMATCH GAMBAR dengan CLEANED TEXT"
   ]
  },
  {
   "cell_type": "code",
   "execution_count": 23,
   "id": "dbdebc21",
   "metadata": {},
   "outputs": [
    {
     "name": "stdout",
     "output_type": "stream",
     "text": [
      "Jumlah row text: 16305\n",
      "Jumlah gambar ditemukan: 16305\n",
      "\n",
      "=== HASIL PENGECEKAN ===\n",
      "✅ Semua index gambar dan text cocok 1:1.\n"
     ]
    }
   ],
   "source": [
    "import os\n",
    "import pandas as pd\n",
    "\n",
    "# --- 1. Ambil semua index gambar ---\n",
    "img_dir = r'E:\\$7th\\TA\\Multimodal_Process_Exploration\\DATA\\image_url'\n",
    "valid_ext = {\".jpg\"}\n",
    "\n",
    "image_files = [f for f in os.listdir(img_dir) if os.path.splitext(f)[1].lower() in valid_ext]\n",
    "image_indices = sorted([int(os.path.splitext(f)[0]) for f in image_files if os.path.splitext(f)[0].isdigit()])\n",
    "\n",
    "\n",
    "# --- 2. Load dataset Cleaned_Text.csv ---\n",
    "csv_path = r'E:\\$7th\\TA\\Multimodal_Process_Exploration\\DATA\\Cleaned_Text.csv'\n",
    "df = pd.read_csv(csv_path, index_col=0)   # pakai index asli\n",
    "mask_empty = df[\"clean_text\"].isna() | (df[\"clean_text\"].astype(str).str.strip() == \"\")\n",
    "text_indices = df.index[~mask_empty].tolist()\n",
    "\n",
    "print(f\"Jumlah row text: {len(text_indices)}\")\n",
    "print(f\"Jumlah gambar ditemukan: {len(image_indices)}\")\n",
    "#print(f\"Range index gambar: {min(image_indices)} - {max(image_indices)}\")\n",
    "#print(f\"Range index text: {min(text_indices)} - {max(text_indices)}\")\n",
    "\n",
    "# --- 3. Bandingkan index ---\n",
    "missing_in_text = sorted(set(image_indices) - set(text_indices))\n",
    "missing_in_image = sorted(set(text_indices) - set(image_indices))\n",
    "\n",
    "print(\"\\n=== HASIL PENGECEKAN ===\")\n",
    "if not missing_in_text and not missing_in_image:\n",
    "    print(\"✅ Semua index gambar dan text cocok 1:1.\")\n",
    "else:\n",
    "    print(\"⚠ Ada mismatch antara text dan image:\")\n",
    "    if missing_in_text:\n",
    "        print(f\"  - Index gambar yang tidak ada di text: {missing_in_text}\")\n",
    "    if missing_in_image:\n",
    "        print(f\"  - Index text yang tidak ada gambar: {missing_in_image}\")\n"
   ]
  }
 ],
 "metadata": {
  "kernelspec": {
   "display_name": "Python 3",
   "language": "python",
   "name": "python3"
  },
  "language_info": {
   "codemirror_mode": {
    "name": "ipython",
    "version": 3
   },
   "file_extension": ".py",
   "mimetype": "text/x-python",
   "name": "python",
   "nbconvert_exporter": "python",
   "pygments_lexer": "ipython3",
   "version": "3.13.1"
  }
 },
 "nbformat": 4,
 "nbformat_minor": 5
}
