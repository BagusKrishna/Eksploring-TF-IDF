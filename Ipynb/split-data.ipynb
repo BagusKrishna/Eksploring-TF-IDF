{
 "cells": [
  {
   "cell_type": "markdown",
   "id": "1c28bf1c",
   "metadata": {},
   "source": [
    "## Split Data\n",
    "Splitting Data from master data (DataFrame_Master.csv) yg sudah ada image_path"
   ]
  },
  {
   "cell_type": "markdown",
   "id": "e2e6d8df",
   "metadata": {},
   "source": [
    "### Dynamic Skema\n",
    "Tinggal ganti angka ratio untuk ubah skema"
   ]
  },
  {
   "cell_type": "code",
   "execution_count": 2,
   "id": "6176726d",
   "metadata": {},
   "outputs": [
    {
     "name": "stdout",
     "output_type": "stream",
     "text": [
      "\n",
      "--- Memulai Proses Split Data ---\n",
      "DataFrame Master berhasil dimuat. Total baris: 16305\n",
      "🔄 Melakukan split data (80% train, 20% test)...\n",
      "\n",
      "=============================================\n",
      "      ✅ PROSES SPLIT DATA SELESAI\n",
      "=============================================\n",
      "📂 Train data disimpan di: E:\\$7th\\TA\\Eksploring_TF-IDF\\DATA\\split_data\\train8020.csv\n",
      "📂 Test data  disimpan di: E:\\$7th\\TA\\Eksploring_TF-IDF\\DATA\\split_data\\test8020.csv\n",
      "\n",
      "Ukuran Data Latih (Train): (13044, 20)\n",
      "Ukuran Data Uji (Test): (3261, 20)\n",
      "\n",
      "Distribusi Label pada Data Latih (proporsi):\n",
      "Label\n",
      "0    0.699632\n",
      "1    0.300368\n",
      "Name: proportion, dtype: float64\n",
      "\n",
      "Distribusi Label pada Data Uji (proporsi):\n",
      "Label\n",
      "0    0.699479\n",
      "1    0.300521\n",
      "Name: proportion, dtype: float64\n",
      "\n",
      "--- Proses Selesai ---\n"
     ]
    }
   ],
   "source": [
    "# ===== SPLIT DATA TRAIN AND DATA TEST =====\n",
    "\n",
    "import os\n",
    "import pandas as pd\n",
    "from sklearn.model_selection import train_test_split\n",
    "\n",
    "def split_data(master_df_path, output_dir, train_ratio):\n",
    "    \"\"\"\n",
    "    Memuat DataFrame master, membaginya jadi train & test,\n",
    "    lalu menyimpannya ke folder output dengan nama file dinamis.\n",
    "    \n",
    "    Args:\n",
    "        master_df_path (str): Path ke file DataFrame_Master.csv\n",
    "        output_dir (str): Folder tempat menyimpan hasil split\n",
    "        train_ratio (float): Proporsi data train (misal 0.8 untuk 80/20)\n",
    "    \"\"\"\n",
    "    print(\"\\n--- Memulai Proses Split Data ---\")\n",
    "    \n",
    "    # 1. Muat DataFrame Master\n",
    "    try:\n",
    "        df = pd.read_csv(master_df_path, index_col=0)\n",
    "        print(f\"DataFrame Master berhasil dimuat. Total baris: {len(df)}\")\n",
    "    except FileNotFoundError:\n",
    "        print(f\"ERROR: File tidak ditemukan di '{master_df_path}'.\")\n",
    "        return None, None\n",
    "\n",
    "    # 2. Pisahkan Fitur (X) dan Target (y)\n",
    "    X = df\n",
    "    y = df['Label']\n",
    "\n",
    "    # 3. Hitung test size dari train_ratio\n",
    "    test_ratio = 1 - train_ratio\n",
    "    train_percent = round(train_ratio * 100)\n",
    "    test_percent = round(test_ratio * 100)\n",
    "\n",
    "    if train_percent + test_percent != 100:\n",
    "        test_percent = 100 - train_percent\n",
    "\n",
    "    print(f\"🔄 Melakukan split data ({train_percent}% train, {test_percent}% test)...\")\n",
    "    train_df, test_df = train_test_split(\n",
    "        X, test_size=test_ratio, random_state=42, stratify=y\n",
    "    )\n",
    "\n",
    "    # 4. Buat folder output jika belum ada\n",
    "    os.makedirs(output_dir, exist_ok=True)\n",
    "\n",
    "    train_path = os.path.join(output_dir, f\"train{train_percent}{test_percent}.csv\")\n",
    "    test_path  = os.path.join(output_dir, f\"test{train_percent}{test_percent}.csv\")\n",
    "\n",
    "    # 5. Simpan hasil split\n",
    "    train_df.to_csv(train_path, index=True)\n",
    "    test_df.to_csv(test_path, index=True)\n",
    "\n",
    "    # 6. Tampilkan Ringkasan\n",
    "    print(\"\\n\" + \"=\"*45)\n",
    "    print(\"      ✅ PROSES SPLIT DATA SELESAI\")\n",
    "    print(\"=\"*45)\n",
    "    print(f\"📂 Train data disimpan di: {train_path}\")\n",
    "    print(f\"📂 Test data  disimpan di: {test_path}\")\n",
    "    print(f\"\\nUkuran Data Latih (Train): {train_df.shape}\")\n",
    "    print(f\"Ukuran Data Uji (Test): {test_df.shape}\")\n",
    "    print(\"\\nDistribusi Label pada Data Latih (proporsi):\")\n",
    "    print(train_df['Label'].value_counts(normalize=True))\n",
    "    print(\"\\nDistribusi Label pada Data Uji (proporsi):\")\n",
    "    print(test_df['Label'].value_counts(normalize=True))\n",
    "    \n",
    "    print(\"\\n--- Proses Selesai ---\")\n",
    "    return train_df, test_df\n",
    "\n",
    "# --- Jalankan Fungsi ---\n",
    "master_file_path = r'E:\\$7th\\TA\\Eksploring_TF-IDF\\DATA\\DataFrame_Master.csv'\n",
    "output_split_dir = r'E:\\$7th\\TA\\Eksploring_TF-IDF\\DATA\\split_data'\n",
    "\n",
    "# CUSTOM RATIO DISINI\n",
    "train_df, test_df = split_data(master_file_path, output_split_dir, train_ratio=0.8)\n"
   ]
  },
  {
   "cell_type": "markdown",
   "id": "ca6e1ce9",
   "metadata": {},
   "source": [
    "### Label Y_Test"
   ]
  },
  {
   "cell_type": "markdown",
   "id": "1110c2e5",
   "metadata": {},
   "source": [
    "#### Load Dataset"
   ]
  },
  {
   "cell_type": "code",
   "execution_count": null,
   "id": "ab87155c",
   "metadata": {},
   "outputs": [
    {
     "ename": "NameError",
     "evalue": "name 're' is not defined",
     "output_type": "error",
     "traceback": [
      "\u001b[1;31m---------------------------------------------------------------------------\u001b[0m",
      "\u001b[1;31mNameError\u001b[0m                                 Traceback (most recent call last)",
      "Cell \u001b[1;32mIn[6], line 29\u001b[0m\n\u001b[0;32m     26\u001b[0m TRAIN_FILENAME \u001b[38;5;241m=\u001b[39m \u001b[38;5;124m'\u001b[39m\u001b[38;5;124mtrain8020.csv\u001b[39m\u001b[38;5;124m'\u001b[39m  \n\u001b[0;32m     27\u001b[0m TEST_FILENAME \u001b[38;5;241m=\u001b[39m \u001b[38;5;124m'\u001b[39m\u001b[38;5;124mtest8020.csv\u001b[39m\u001b[38;5;124m'\u001b[39m\n\u001b[1;32m---> 29\u001b[0m train_df, test_df, split_ratio \u001b[38;5;241m=\u001b[39m \u001b[43mload_split_data\u001b[49m\u001b[43m(\u001b[49m\u001b[43mSPLIT_DATA_DIR\u001b[49m\u001b[43m,\u001b[49m\u001b[43m \u001b[49m\u001b[43mTRAIN_FILENAME\u001b[49m\u001b[43m,\u001b[49m\u001b[43m \u001b[49m\u001b[43mTEST_FILENAME\u001b[49m\u001b[43m)\u001b[49m\n",
      "Cell \u001b[1;32mIn[6], line 12\u001b[0m, in \u001b[0;36mload_split_data\u001b[1;34m(split_dir, train_filename, test_filename)\u001b[0m\n\u001b[0;32m      9\u001b[0m test_df \u001b[38;5;241m=\u001b[39m pd\u001b[38;5;241m.\u001b[39mread_csv(test_path)\n\u001b[0;32m     11\u001b[0m \u001b[38;5;66;03m# Ekstrak angka dari nama file untuk mendapatkan rasio (contoh: '8020')\u001b[39;00m\n\u001b[1;32m---> 12\u001b[0m split_ratio_str \u001b[38;5;241m=\u001b[39m \u001b[43mre\u001b[49m\u001b[38;5;241m.\u001b[39msearch(\u001b[38;5;124mr\u001b[39m\u001b[38;5;124m'\u001b[39m\u001b[38;5;124m(\u001b[39m\u001b[38;5;124m\\\u001b[39m\u001b[38;5;124md+)\u001b[39m\u001b[38;5;124m'\u001b[39m, train_filename)\u001b[38;5;241m.\u001b[39mgroup(\u001b[38;5;241m1\u001b[39m)\n\u001b[0;32m     14\u001b[0m \u001b[38;5;28mprint\u001b[39m(\u001b[38;5;124mf\u001b[39m\u001b[38;5;124m\"\u001b[39m\u001b[38;5;124mData latih berhasil dimuat: \u001b[39m\u001b[38;5;132;01m{\u001b[39;00mtrain_df\u001b[38;5;241m.\u001b[39mshape[\u001b[38;5;241m0\u001b[39m]\u001b[38;5;132;01m}\u001b[39;00m\u001b[38;5;124m baris.\u001b[39m\u001b[38;5;124m\"\u001b[39m)\n\u001b[0;32m     15\u001b[0m \u001b[38;5;28mprint\u001b[39m(\u001b[38;5;124mf\u001b[39m\u001b[38;5;124m\"\u001b[39m\u001b[38;5;124mData uji berhasil dimuat: \u001b[39m\u001b[38;5;132;01m{\u001b[39;00mtest_df\u001b[38;5;241m.\u001b[39mshape[\u001b[38;5;241m0\u001b[39m]\u001b[38;5;132;01m}\u001b[39;00m\u001b[38;5;124m baris.\u001b[39m\u001b[38;5;124m\"\u001b[39m)\n",
      "\u001b[1;31mNameError\u001b[0m: name 're' is not defined"
     ]
    }
   ],
   "source": [
    "import re\n",
    "\n",
    "def load_split_data(split_dir, train_filename, test_filename):\n",
    "    \"\"\"Memuat dataset train dan test, dan mendeteksi rasio split dari nama file.\"\"\"\n",
    "    \n",
    "    train_path = os.path.join(split_dir, train_filename)\n",
    "    test_path = os.path.join(split_dir, test_filename)\n",
    "    \n",
    "    try:\n",
    "        train_df = pd.read_csv(train_path)\n",
    "        test_df = pd.read_csv(test_path)\n",
    "        \n",
    "        # Ekstrak angka dari nama file untuk mendapatkan rasio (contoh: '8020')\n",
    "        split_ratio_str = re.search(r'(\\d+)', train_filename).group(1)\n",
    "        \n",
    "        print(f\"Data latih berhasil dimuat: {train_df.shape[0]} baris.\")\n",
    "        print(f\"Data uji berhasil dimuat: {test_df.shape[0]} baris.\")\n",
    "        print(f\"Rasio split terdeteksi: {split_ratio_str}\")\n",
    "        \n",
    "        return train_df, test_df, split_ratio_str\n",
    "        \n",
    "    except FileNotFoundError as e:\n",
    "        print(f\"Error: Salah satu file tidak ditemukan. {e}\")\n",
    "        return None, None, None\n",
    "\n",
    "# --- Konfigurasi dan Eksekusi (CUSTOM)---\n",
    "SPLIT_DATA_DIR = r'E:\\$7th\\TA\\Eksploring_TF-IDF\\DATA\\split_data'\n",
    "TRAIN_FILENAME = 'train8020.csv'  \n",
    "TEST_FILENAME = 'test8020.csv'\n",
    "\n",
    "train_df, test_df, split_ratio = load_split_data(SPLIT_DATA_DIR, TRAIN_FILENAME, TEST_FILENAME)"
   ]
  },
  {
   "cell_type": "code",
   "execution_count": 5,
   "id": "6efa069a",
   "metadata": {},
   "outputs": [
    {
     "ename": "NameError",
     "evalue": "name 'split_ratio' is not defined",
     "output_type": "error",
     "traceback": [
      "\u001b[1;31m---------------------------------------------------------------------------\u001b[0m",
      "\u001b[1;31mNameError\u001b[0m                                 Traceback (most recent call last)",
      "Cell \u001b[1;32mIn[5], line 23\u001b[0m\n\u001b[0;32m     20\u001b[0m LABEL_OUTPUT_DIR \u001b[38;5;241m=\u001b[39m \u001b[38;5;124mr\u001b[39m\u001b[38;5;124m'\u001b[39m\u001b[38;5;124mE:\u001b[39m\u001b[38;5;124m\\\u001b[39m\u001b[38;5;124m$7th\u001b[39m\u001b[38;5;124m\\\u001b[39m\u001b[38;5;124mTA\u001b[39m\u001b[38;5;124m\\\u001b[39m\u001b[38;5;124mEksploring_TF-IDF\u001b[39m\u001b[38;5;124m\\\u001b[39m\u001b[38;5;124mDATA\u001b[39m\u001b[38;5;124m\\\u001b[39m\u001b[38;5;124m_$label\u001b[39m\u001b[38;5;124m'\u001b[39m\n\u001b[0;32m     22\u001b[0m \u001b[38;5;66;03m# Langsung gunakan variabel dari Cell 1\u001b[39;00m\n\u001b[1;32m---> 23\u001b[0m save_test_label(test_df, \u001b[43msplit_ratio\u001b[49m, LABEL_OUTPUT_DIR)\n",
      "\u001b[1;31mNameError\u001b[0m: name 'split_ratio' is not defined"
     ]
    }
   ],
   "source": [
    "# ===== CELL 2: SIMPAN LABEL DATA UJI =====\n",
    "\n",
    "import os\n",
    "\n",
    "def save_test_label(test_dataframe, ratio_str, output_dir):\n",
    "    \"\"\"Mengambil kolom 'Label' dari test_df dan menyimpannya.\"\"\"\n",
    "    \n",
    "    os.makedirs(output_dir, exist_ok=True)\n",
    "    \n",
    "    # Ambil hanya kolom label\n",
    "    y_test = test_dataframe['Label']\n",
    "    \n",
    "    # Buat nama file dinamis dan simpan\n",
    "    save_path = os.path.join(output_dir, f'y_test_{ratio_str}.csv')\n",
    "    y_test.to_csv(save_path, index=False, header=True)\n",
    "    \n",
    "    print(f\"File label untuk data uji berhasil disimpan di: {save_path}\")\n",
    "\n",
    "# --- Eksekusi ---\n",
    "LABEL_OUTPUT_DIR = r'E:\\$7th\\TA\\Eksploring_TF-IDF\\DATA\\_$label'\n",
    "\n",
    "# Langsung gunakan variabel dari Cell 1\n",
    "save_test_label(test_df, split_ratio, LABEL_OUTPUT_DIR)"
   ]
  }
 ],
 "metadata": {
  "kernelspec": {
   "display_name": "Python 3",
   "language": "python",
   "name": "python3"
  },
  "language_info": {
   "codemirror_mode": {
    "name": "ipython",
    "version": 3
   },
   "file_extension": ".py",
   "mimetype": "text/x-python",
   "name": "python",
   "nbconvert_exporter": "python",
   "pygments_lexer": "ipython3",
   "version": "3.13.1"
  }
 },
 "nbformat": 4,
 "nbformat_minor": 5
}
