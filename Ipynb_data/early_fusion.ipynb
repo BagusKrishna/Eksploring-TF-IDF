{
 "cells": [
  {
   "cell_type": "markdown",
   "id": "680d0b20",
   "metadata": {},
   "source": [
    "## Early Fusion (Concate)\n",
    "Disini bakal ngeconcate data dari :\n",
    "1. TF-IDF (teks) \n",
    "2. MobileNetV1 (gambar)\n",
    "3. Feature Metadata (numerik)"
   ]
  },
  {
   "cell_type": "markdown",
   "id": "08a55fc5",
   "metadata": {},
   "source": [
    "#### Import Library"
   ]
  },
  {
   "cell_type": "code",
   "execution_count": 1,
   "id": "e21e6bdd",
   "metadata": {},
   "outputs": [],
   "source": [
    "import os\n",
    "import numpy as np\n",
    "from scipy import sparse"
   ]
  },
  {
   "cell_type": "markdown",
   "id": "f118423f",
   "metadata": {},
   "source": [
    "#### Load Artifact "
   ]
  },
  {
   "cell_type": "code",
   "execution_count": null,
   "id": "134075ad",
   "metadata": {},
   "outputs": [
    {
     "name": "stdout",
     "output_type": "stream",
     "text": [
      "Semua matriks fitur berhasil dimuat.\n"
     ]
    }
   ],
   "source": [
    "def load_all_features(base_path, ratio_str):\n",
    "    \"\"\"Memuat semua matriks fitur (teks, gambar, metadata) untuk train dan test.\"\"\"\n",
    "    \n",
    "    # Tentukan path dinamis berdasarkan rasio\n",
    "    tfidf_path = os.path.join(base_path, f'_tfidf_artifacts/unigram_{ratio_str}')\n",
    "    image_path = os.path.join(base_path, f'_image_artifacts/mobilenetv1_{ratio_str}')\n",
    "    meta_path = os.path.join(base_path, f'_feature_artifacts/metadata_{ratio_str}')\n",
    "    \n",
    "    try:\n",
    "        # Muat fitur train\n",
    "        X_train_text = sparse.load_npz(os.path.join(tfidf_path, 'X_train_unigram.npz'))\n",
    "        X_train_image = np.load(os.path.join(image_path, 'X_train_image.npy'))\n",
    "        X_train_meta = np.load(os.path.join(meta_path, 'X_train_metadata.npy'))\n",
    "        \n",
    "        # Muat fitur test\n",
    "        X_test_text = sparse.load_npz(os.path.join(tfidf_path, 'X_test_unigram.npz'))\n",
    "        X_test_image = np.load(os.path.join(image_path, 'X_test_image.npy'))\n",
    "        X_test_meta = np.load(os.path.join(meta_path, 'X_test_metadata.npy'))\n",
    "        \n",
    "        print(\"Semua matriks fitur berhasil dimuat.\")\n",
    "        print(\"tfidf : \", X_train_text.shape, X_test_text.shape)\n",
    "        print(\"image : \", X_train_image.shape, X_test_image.shape)\n",
    "        print(\"meta  : \", X_train_meta.shape, X_test_meta.shape)\n",
    "        return (X_train_text, X_train_image, X_train_meta, \n",
    "                X_test_text, X_test_image, X_test_meta)\n",
    "        \n",
    "        \n",
    "    except FileNotFoundError as e:\n",
    "        print(f\"Error: Gagal memuat file. Pastikan semua path benar. {e}\")\n",
    "        return (None,) * 6\n",
    "\n",
    "# --- Konfigurasi dan Eksekusi ---\n",
    "BASE_DATA_DIR = r'E:\\$7th\\TA\\Multimodal_Process_Exploration\\DATA'\n",
    "SPLIT_RATIO = '8020'\n",
    "\n",
    "(X_train_text, X_train_image, X_train_meta, \n",
    " X_test_text, X_test_image, X_test_meta) = load_all_features(BASE_DATA_DIR, SPLIT_RATIO)"
   ]
  },
  {
   "cell_type": "markdown",
   "id": "8049547f",
   "metadata": {},
   "source": [
    "#### Fusion (Concate)"
   ]
  },
  {
   "cell_type": "code",
   "execution_count": 3,
   "id": "92dc7b32",
   "metadata": {},
   "outputs": [
    {
     "name": "stdout",
     "output_type": "stream",
     "text": [
      "Memulai proses fusion...\n",
      "Fusion berhasil. Bentuk matriks akhir: (13044, 18221)\n",
      "Memulai proses fusion...\n",
      "Fusion berhasil. Bentuk matriks akhir: (3261, 18221)\n"
     ]
    }
   ],
   "source": [
    "def fuse_features(text_features, image_features, meta_features):\n",
    "    \"\"\"Menggabungkan tiga matriks fitur secara horizontal.\"\"\"\n",
    "    \n",
    "    print(\"Memulai proses fusion...\")\n",
    "    \n",
    "    # Gunakan hstack untuk menggabungkan sparse (TF-IDF) dan dense (gambar, meta)\n",
    "    fused_matrix = sparse.hstack([text_features, image_features, meta_features])\n",
    "    \n",
    "    print(f\"Fusion berhasil. Bentuk matriks akhir: {fused_matrix.shape}\")\n",
    "    return fused_matrix\n",
    "\n",
    "# --- Eksekusi ---\n",
    "if X_train_text is not None:\n",
    "    # Fusion untuk data latih\n",
    "    X_train_fused = fuse_features(X_train_text, X_train_image, X_train_meta)\n",
    "    \n",
    "    # Fusion untuk data uji\n",
    "    X_test_fused = fuse_features(X_test_text, X_test_image, X_test_meta)"
   ]
  },
  {
   "cell_type": "markdown",
   "id": "8f07894b",
   "metadata": {},
   "source": [
    "#### Save Files"
   ]
  },
  {
   "cell_type": "code",
   "execution_count": null,
   "id": "64b2a5ce",
   "metadata": {},
   "outputs": [
    {
     "name": "stdout",
     "output_type": "stream",
     "text": [
      "Matriks fused train berhasil disimpan di: E:\\$7th\\TA\\Eksploring_TF-IDF\\DATA\\_$fused\\X_train_fused_8020.npz\n",
      "Matriks fused test berhasil disimpan di: E:\\$7th\\TA\\Eksploring_TF-IDF\\DATA\\_$fused\\X_test_fused_8020.npz\n"
     ]
    }
   ],
   "source": [
    "def save_fused_data(train_fused, test_fused, output_dir, ratio_str):\n",
    "    \"\"\"Menyimpan matriks fitur yang sudah digabungkan.\"\"\"\n",
    "    \n",
    "    os.makedirs(output_dir, exist_ok=True)\n",
    "    \n",
    "    train_path = os.path.join(output_dir, f'X_train_fused_{ratio_str}.npz')\n",
    "    test_path = os.path.join(output_dir, f'X_test_fused_{ratio_str}.npz')\n",
    "    \n",
    "    # Simpan sebagai sparse matrix (.npz) karena efisien\n",
    "    sparse.save_npz(train_path, train_fused)\n",
    "    sparse.save_npz(test_path, test_fused)\n",
    "    \n",
    "    print(f\"Matriks fused train berhasil disimpan di: {train_path}\")\n",
    "    print(f\"Matriks fused test berhasil disimpan di: {test_path}\")\n",
    "\n",
    "# --- Konfigurasi dan Eksekusi ---\n",
    "FUSED_OUTPUT_DIR = r'E:\\$7th\\TA\\Multimodal_Process_Exploration\\DATA\\_$fused'\n",
    "\n",
    "if 'X_train_fused' in locals():\n",
    "    save_fused_data(X_train_fused, X_test_fused, FUSED_OUTPUT_DIR, SPLIT_RATIO)"
   ]
  }
 ],
 "metadata": {
  "kernelspec": {
   "display_name": "Python 3",
   "language": "python",
   "name": "python3"
  },
  "language_info": {
   "codemirror_mode": {
    "name": "ipython",
    "version": 3
   },
   "file_extension": ".py",
   "mimetype": "text/x-python",
   "name": "python",
   "nbconvert_exporter": "python",
   "pygments_lexer": "ipython3",
   "version": "3.13.1"
  }
 },
 "nbformat": 4,
 "nbformat_minor": 5
}
