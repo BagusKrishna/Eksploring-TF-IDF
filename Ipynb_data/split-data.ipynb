{
 "cells": [
  {
   "cell_type": "markdown",
   "id": "1c28bf1c",
   "metadata": {},
   "source": [
    "## Split Data\n",
    "Splitting Data from master data (DataFrame_Master.csv) yg sudah ada image_path"
   ]
  },
  {
   "cell_type": "markdown",
   "id": "e2e6d8df",
   "metadata": {},
   "source": [
    "### Dynamic Skema\n",
    "Tinggal ganti angka ratio untuk ubah skema"
   ]
  },
  {
   "cell_type": "code",
   "execution_count": null,
   "id": "6176726d",
   "metadata": {},
   "outputs": [
    {
     "name": "stdout",
     "output_type": "stream",
     "text": [
      "\n",
      "--- Memulai Proses Split Data ---\n",
      "DataFrame Master berhasil dimuat. Total baris: 16305\n",
      "🔄 Melakukan split data (80% train, 20% test)...\n",
      "\n",
      "=============================================\n",
      "      ✅ PROSES SPLIT DATA SELESAI\n",
      "=============================================\n",
      "📂 Train data disimpan di: E:\\$7th\\TA\\Eksploring_TF-IDF\\DATA\\split_data\\train8020.csv\n",
      "📂 Test data  disimpan di: E:\\$7th\\TA\\Eksploring_TF-IDF\\DATA\\split_data\\test8020.csv\n",
      "\n",
      "Ukuran Data Latih (Train): (13044, 20)\n",
      "Ukuran Data Uji (Test): (3261, 20)\n",
      "\n",
      "Distribusi Label pada Data Latih (proporsi):\n",
      "Label\n",
      "0    0.699632\n",
      "1    0.300368\n",
      "Name: proportion, dtype: float64\n",
      "\n",
      "Distribusi Label pada Data Uji (proporsi):\n",
      "Label\n",
      "0    0.699479\n",
      "1    0.300521\n",
      "Name: proportion, dtype: float64\n",
      "\n",
      "--- Proses Selesai ---\n"
     ]
    }
   ],
   "source": [
    "# ===== SPLIT DATA TRAIN AND DATA TEST =====\n",
    "\n",
    "import os\n",
    "import pandas as pd\n",
    "from sklearn.model_selection import train_test_split\n",
    "\n",
    "def split_data(master_df_path, output_dir, train_ratio):\n",
    "    \"\"\"\n",
    "    Memuat DataFrame master, membaginya jadi train & test,\n",
    "    lalu menyimpannya ke folder output dengan nama file dinamis.\n",
    "    \n",
    "    Args:\n",
    "        master_df_path (str): Path ke file DataFrame_Master.csv\n",
    "        output_dir (str): Folder tempat menyimpan hasil split\n",
    "        train_ratio (float): Proporsi data train (misal 0.8 untuk 80/20)\n",
    "    \"\"\"\n",
    "    print(\"\\n--- Memulai Proses Split Data ---\")\n",
    "    \n",
    "    # 1. Muat DataFrame Master\n",
    "    try:\n",
    "        df = pd.read_csv(master_df_path, index_col=0)\n",
    "        print(f\"DataFrame Master berhasil dimuat. Total baris: {len(df)}\")\n",
    "    except FileNotFoundError:\n",
    "        print(f\"ERROR: File tidak ditemukan di '{master_df_path}'.\")\n",
    "        return None, None\n",
    "\n",
    "    # 2. Pisahkan Fitur (X) dan Target (y)\n",
    "    X = df\n",
    "    y = df['Label']\n",
    "\n",
    "    # 3. Hitung test size dari train_ratio\n",
    "    test_ratio = 1 - train_ratio\n",
    "    train_percent = round(train_ratio * 100)\n",
    "    test_percent = round(test_ratio * 100)\n",
    "\n",
    "    if train_percent + test_percent != 100:\n",
    "        test_percent = 100 - train_percent\n",
    "\n",
    "    print(f\"🔄 Melakukan split data ({train_percent}% train, {test_percent}% test)...\")\n",
    "    train_df, test_df = train_test_split(\n",
    "        X, test_size=test_ratio, random_state=42, stratify=y\n",
    "    )\n",
    "\n",
    "    # 4. Buat folder output jika belum ada\n",
    "    os.makedirs(output_dir, exist_ok=True)\n",
    "\n",
    "    train_path = os.path.join(output_dir, f\"train{train_percent}{test_percent}.csv\")\n",
    "    test_path  = os.path.join(output_dir, f\"test{train_percent}{test_percent}.csv\")\n",
    "\n",
    "    # 5. Simpan hasil split\n",
    "    train_df.to_csv(train_path, index=True)\n",
    "    test_df.to_csv(test_path, index=True)\n",
    "\n",
    "    # 6. Tampilkan Ringkasan\n",
    "    print(\"\\n\" + \"=\"*45)\n",
    "    print(\"      ✅ PROSES SPLIT DATA SELESAI\")\n",
    "    print(\"=\"*45)\n",
    "    print(f\"📂 Train data disimpan di: {train_path}\")\n",
    "    print(f\"📂 Test data  disimpan di: {test_path}\")\n",
    "    print(f\"\\nUkuran Data Latih (Train): {train_df.shape}\")\n",
    "    print(f\"Ukuran Data Uji (Test): {test_df.shape}\")\n",
    "    print(\"\\nDistribusi Label pada Data Latih (proporsi):\")\n",
    "    print(train_df['Label'].value_counts(normalize=True))\n",
    "    print(\"\\nDistribusi Label pada Data Uji (proporsi):\")\n",
    "    print(test_df['Label'].value_counts(normalize=True))\n",
    "    \n",
    "    print(\"\\n--- Proses Selesai ---\")\n",
    "    return train_df, test_df\n",
    "\n",
    "# --- Jalankan Fungsi ---\n",
    "master_file_path = r'E:\\$7th\\TA\\Multimodal_Process_Exploration\\DATA\\DataFrame_Master.csv'\n",
    "output_split_dir = r'E:\\$7th\\TA\\Multimodal_Process_Exploration\\DATA\\split_data'\n",
    "\n",
    "# CUSTOM RATIO DISINI\n",
    "train_df, test_df = split_data(master_file_path, output_split_dir, train_ratio=0.8)\n"
   ]
  },
  {
   "cell_type": "markdown",
   "id": "ca6e1ce9",
   "metadata": {},
   "source": [
    "### Label Y_Train Y_Test\n",
    "Ini bikin file csv buat Y untuk nanti dipakai pas evaluasi setelah train model disimpen di _$label"
   ]
  },
  {
   "cell_type": "markdown",
   "id": "1110c2e5",
   "metadata": {},
   "source": [
    "#### Load Dataset"
   ]
  },
  {
   "cell_type": "code",
   "execution_count": null,
   "id": "ab87155c",
   "metadata": {},
   "outputs": [
    {
     "name": "stdout",
     "output_type": "stream",
     "text": [
      "Data latih berhasil dimuat: 13044 baris.\n",
      "Data uji berhasil dimuat: 3261 baris.\n",
      "Rasio split terdeteksi: 8020\n"
     ]
    }
   ],
   "source": [
    "import re\n",
    "\n",
    "def load_split_data(split_dir, train_filename, test_filename):\n",
    "    \"\"\"Memuat dataset train dan test, dan mendeteksi rasio split dari nama file.\"\"\"\n",
    "    \n",
    "    train_path = os.path.join(split_dir, train_filename)\n",
    "    test_path = os.path.join(split_dir, test_filename)\n",
    "    \n",
    "    try:\n",
    "        train_df = pd.read_csv(train_path)\n",
    "        test_df = pd.read_csv(test_path)\n",
    "        \n",
    "        # Ekstrak angka dari nama file untuk mendapatkan rasio (contoh: '8020')\n",
    "        split_ratio_str = re.search(r'(\\d+)', train_filename).group(1)\n",
    "        \n",
    "        print(f\"Data latih berhasil dimuat: {train_df.shape[0]} baris.\")\n",
    "        print(f\"Data uji berhasil dimuat: {test_df.shape[0]} baris.\")\n",
    "        print(f\"Rasio split terdeteksi: {split_ratio_str}\")\n",
    "        \n",
    "        return train_df, test_df, split_ratio_str\n",
    "        \n",
    "    except FileNotFoundError as e:\n",
    "        print(f\"Error: Salah satu file tidak ditemukan. {e}\")\n",
    "        return None, None, None\n",
    "\n",
    "# --- Konfigurasi dan Eksekusi (CUSTOM)---\n",
    "SPLIT_DATA_DIR = r'E:\\$7th\\TA\\Multimodal_Process_Exploration\\DATA\\split_data'\n",
    "TRAIN_FILENAME = 'train8020.csv'  \n",
    "TEST_FILENAME = 'test8020.csv'\n",
    "\n",
    "train_df, test_df, split_ratio = load_split_data(SPLIT_DATA_DIR, TRAIN_FILENAME, TEST_FILENAME)"
   ]
  },
  {
   "cell_type": "markdown",
   "id": "1aad11f2",
   "metadata": {},
   "source": [
    "#### Save Label as Files"
   ]
  },
  {
   "cell_type": "code",
   "execution_count": null,
   "id": "6efa069a",
   "metadata": {},
   "outputs": [
    {
     "name": "stdout",
     "output_type": "stream",
     "text": [
      "File label untuk data latih berhasil disimpan di: E:\\$7th\\TA\\Eksploring_TF-IDF\\DATA\\_$label\\y_train_8020.csv\n",
      "File label untuk data uji berhasil disimpan di: E:\\$7th\\TA\\Eksploring_TF-IDF\\DATA\\_$label\\y_test_8020.csv\n"
     ]
    }
   ],
   "source": [
    "import os\n",
    "import pandas as pd\n",
    "\n",
    "def save_labels(train_dataframe, test_dataframe, ratio_str, output_dir):\n",
    "    \"\"\"Mengambil kolom 'Label' dari train_df dan test_df lalu menyimpannya.\"\"\"\n",
    "    \n",
    "    os.makedirs(output_dir, exist_ok=True)\n",
    "    \n",
    "    # --- Proses untuk y_train ---\n",
    "    y_train = train_dataframe['Label']\n",
    "    train_save_path = os.path.join(output_dir, f'y_train_{ratio_str}.csv')\n",
    "    y_train.to_csv(train_save_path, index=False, header=True)\n",
    "    print(f\"File label untuk data latih berhasil disimpan di: {train_save_path}\")\n",
    "\n",
    "    # --- Proses untuk y_test ---\n",
    "    y_test = test_dataframe['Label']\n",
    "    test_save_path = os.path.join(output_dir, f'y_test_{ratio_str}.csv')\n",
    "    y_test.to_csv(test_save_path, index=False, header=True)\n",
    "    print(f\"File label untuk data uji berhasil disimpan di: {test_save_path}\")\n",
    "\n",
    "# --- Eksekusi ---\n",
    "LABEL_OUTPUT_DIR = r'E:\\$7th\\TA\\Multimodal_Process_Exploration\\DATA\\_$label'\n",
    "\n",
    "# Langsung gunakan variabel dari Cell 1\n",
    "if 'train_df' in locals() and 'test_df' in locals() and 'split_ratio' in locals():\n",
    "    save_labels(train_df, test_df, split_ratio, LABEL_OUTPUT_DIR)\n",
    "else:\n",
    "    print(\"Harap jalankan Cell 1 terlebih dahulu untuk menghasilkan variabel yang dibutuhkan.\")"
   ]
  }
 ],
 "metadata": {
  "kernelspec": {
   "display_name": "Python 3",
   "language": "python",
   "name": "python3"
  },
  "language_info": {
   "codemirror_mode": {
    "name": "ipython",
    "version": 3
   },
   "file_extension": ".py",
   "mimetype": "text/x-python",
   "name": "python",
   "nbconvert_exporter": "python",
   "pygments_lexer": "ipython3",
   "version": "3.13.1"
  }
 },
 "nbformat": 4,
 "nbformat_minor": 5
}
