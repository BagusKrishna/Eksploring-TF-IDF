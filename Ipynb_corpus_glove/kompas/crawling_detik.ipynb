{
 "cells": [
  {
   "cell_type": "markdown",
   "id": "1cb7fc12",
   "metadata": {},
   "source": [
    "## CRAWL DARI DETIK"
   ]
  },
  {
   "cell_type": "markdown",
   "id": "ce49f29b",
   "metadata": {},
   "source": [
    "### Def untuk crawling dari Portal DETIK\n",
    "Note : \n",
    "- ganti User-Agent pada headers -> ke user agent browser sendiri"
   ]
  },
  {
   "cell_type": "code",
   "execution_count": null,
   "id": "857c269f",
   "metadata": {},
   "outputs": [],
   "source": [
    "import os\n",
    "import time\n",
    "import csv\n",
    "import requests\n",
    "from bs4 import BeautifulSoup\n",
    "\n",
    "def detik(keyword, n_berita):\n",
    "    headers = {\n",
    "        'User-Agent': 'Mozilla/5.0 (Windows NT 10.0; Win64; x64)'\n",
    "    }\n",
    "\n",
    "    save_dir = r\"/home/spil/1Bagus/BACKUP/TA/Multimodal_Process_Exploration/DATA/corpus/detik\"\n",
    "\n",
    "    data_detik = []\n",
    "    page = 1\n",
    "\n",
    "    while len(data_detik) < n_berita:\n",
    "        alamatURL = f'https://www.detik.com/search/searchall?query={keyword}&sortby=time&page={page}'\n",
    "        req = requests.get(alamatURL, headers=headers)\n",
    "        print(f\"\\n🔄 Scraping halaman {page}...\")\n",
    "\n",
    "        if req.status_code != 200:\n",
    "            print(\"❌ Gagal mengakses halaman.\")\n",
    "            break\n",
    "\n",
    "        soup = BeautifulSoup(req.content, 'lxml')\n",
    "        articles = soup.find_all('article')\n",
    "\n",
    "        if not articles:\n",
    "            print(\"❌ Tidak menemukan artikel lagi.\")\n",
    "            break\n",
    "\n",
    "        for article in articles:\n",
    "            try:\n",
    "                a_tag = article.find('a', href=True)\n",
    "                if not a_tag:\n",
    "                    continue\n",
    "\n",
    "                url = a_tag['href']\n",
    "                title_tag = article.find('h3', class_='media__title')\n",
    "                judul = title_tag.get_text(strip=True) if title_tag else a_tag.get_text(strip=True)\n",
    "\n",
    "                date_tag = article.find('span', class_='date')\n",
    "                tanggal = date_tag.get_text(strip=True).split(',')[-1].strip() if date_tag else \"?\"\n",
    "\n",
    "                detail_req = requests.get(url, headers=headers)\n",
    "                soup_detail = BeautifulSoup(detail_req.content, 'lxml')\n",
    "                body = soup_detail.find('div', class_='detail__body-text itp_bodycontent')\n",
    "                berita = body.get_text(separator=' ', strip=True) if body else \"Tidak ditemukan\"\n",
    "\n",
    "                if berita and len(berita) > 30:\n",
    "                    data_detik.append({\n",
    "                        'judul': judul,\n",
    "                        'berita': berita,\n",
    "                        'url': url,\n",
    "                        'tanggal': tanggal\n",
    "                    })\n",
    "                    print(f\"[{len(data_detik)}] {judul}\")\n",
    "\n",
    "                    if len(data_detik) >= n_berita:\n",
    "                        break\n",
    "\n",
    "                time.sleep(1)\n",
    "\n",
    "            except Exception as e:\n",
    "                print(\"⚠️ Error ambil artikel:\", e)\n",
    "                continue\n",
    "\n",
    "        page += 1\n",
    "\n",
    "    if data_detik:\n",
    "        filename = os.path.join(save_dir, f\"detik_news_{keyword.lower().replace(' ','')}_{time.strftime('%Y%m%d_%H%M%S')}.csv\")\n",
    "        with open(filename, \"w\", newline=\"\", encoding=\"utf-8-sig\") as f:\n",
    "                writer = csv.DictWriter(f, fieldnames=[\"judul\", \"berita\", \"url\"])\n",
    "                writer.writeheader()\n",
    "                writer.writerows(data_detik)\n",
    "\n",
    "        print(f\"/n✅ {len(data_detik)} artikel '{keyword}' disimpan ke {filename}\")\n",
    "    else:\n",
    "            print(f\"❌ Tidak ada data valid untuk '{keyword}'\")"
   ]
  },
  {
   "cell_type": "code",
   "execution_count": null,
   "id": "ccf4f137",
   "metadata": {},
   "outputs": [],
   "source": [
    "detik(keyword=\"IHSG\", n_berita=100)"
   ]
  }
 ],
 "metadata": {
  "kernelspec": {
   "display_name": "Python 3 (Global)",
   "language": "python",
   "name": "python3-global"
  },
  "language_info": {
   "name": "python",
   "version": "3.12.3"
  }
 },
 "nbformat": 4,
 "nbformat_minor": 5
}
