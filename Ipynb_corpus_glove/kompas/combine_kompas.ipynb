{
  "cells": [
    {
      "cell_type": "markdown",
      "id": "14ec28eb",
      "metadata": {},
      "source": [
        "## KOMPAS"
      ]
    },
    {
      "cell_type": "code",
      "execution_count": 2,
      "id": "2fd0d147",
      "metadata": {},
      "outputs": [
        {
          "name": "stdout",
          "output_type": "stream",
          "text": [
            " Loaded /home/spil/1Bagus/BACKUP/TA/Multimodal_Process_Exploration/DATA/corpus/kompas/kompas_news_ekonomiindonesia_20251015_144115.csv (100 rows)\n",
            " Loaded /home/spil/1Bagus/BACKUP/TA/Multimodal_Process_Exploration/DATA/corpus/kompas/kompas_news_ekonomidigital_20251015_145545.csv (100 rows)\n",
            " Loaded /home/spil/1Bagus/BACKUP/TA/Multimodal_Process_Exploration/DATA/corpus/kompas/kompas_news_birate_20251015_152423.csv (81 rows)\n",
            " Loaded /home/spil/1Bagus/BACKUP/TA/Multimodal_Process_Exploration/DATA/corpus/kompas/kompas_news_reksadana_20251015_144905.csv (100 rows)\n",
            " Loaded /home/spil/1Bagus/BACKUP/TA/Multimodal_Process_Exploration/DATA/corpus/kompas/kompas_news_danantara_20251015_144424.csv (95 rows)\n",
            " Loaded /home/spil/1Bagus/BACKUP/TA/Multimodal_Process_Exploration/DATA/corpus/kompas/kompas_news_bei_20251015_145249.csv (18 rows)\n",
            " Loaded /home/spil/1Bagus/BACKUP/TA/Multimodal_Process_Exploration/DATA/corpus/kompas/kompas_news_pertumbuhanekonomi_20251015_141942.csv (100 rows)\n",
            " Loaded /home/spil/1Bagus/BACKUP/TA/Multimodal_Process_Exploration/DATA/corpus/kompas/kompas_news_ojk_20251015_144621.csv (61 rows)\n",
            " Loaded /home/spil/1Bagus/BACKUP/TA/Multimodal_Process_Exploration/DATA/corpus/kompas/kompas_news_ihsg_20251015_143148.csv (100 rows)\n",
            " Loaded /home/spil/1Bagus/BACKUP/TA/Multimodal_Process_Exploration/DATA/corpus/kompas/kompas_news_investasi_20251015_143807.csv (100 rows)\n"
          ]
        },
        {
          "name": "stdout",
          "output_type": "stream",
          "text": [
            " Loaded /home/spil/1Bagus/BACKUP/TA/Multimodal_Process_Exploration/DATA/corpus/kompas/kompas_news_perbankandigital_20251015_142816.csv (100 rows)\n",
            " Loaded /home/spil/1Bagus/BACKUP/TA/Multimodal_Process_Exploration/DATA/corpus/kompas/kompas_news_bankindonesia_20251015_142435.csv (100 rows)\n",
            " Loaded /home/spil/1Bagus/BACKUP/TA/Multimodal_Process_Exploration/DATA/corpus/kompas/kompas_news_birate_20251009_155127.csv (95 rows)\n",
            " Loaded /home/spil/1Bagus/BACKUP/TA/Multimodal_Process_Exploration/DATA/corpus/kompas/kompas_news_birate_20251015_141612.csv (80 rows)\n",
            " Loaded /home/spil/1Bagus/BACKUP/TA/Multimodal_Process_Exploration/DATA/corpus/kompas/kompas_news_bursaefekindonesia_20251015_145213.csv (100 rows)\n",
            " Loaded /home/spil/1Bagus/BACKUP/TA/Multimodal_Process_Exploration/DATA/corpus/kompas/kompas_news_pelemahanrupiah_20251015_143448.csv (100 rows)\n",
            " Loaded /home/spil/1Bagus/BACKUP/TA/Multimodal_Process_Exploration/DATA/corpus/kompas/kompas_news_inflasi_20251015_142057.csv (34 rows)\n",
            "/n Semua file berhasil digabung: 942 rows disimpan ke /home/spil/1Bagus/BACKUP/TA/Multimodal_Process_Exploration/DATA/corpus/kompas/kompas_news.csv\n"
          ]
        }
      ],
      "source": [
        "import os\n",
        "import pandas as pd\n",
        "\n",
        "# Path folder corpus\n",
        "folder_path = r'/home/spil/1Bagus/BACKUP/TA/Multimodal_Process_Exploration/DATA/corpus/kompas'\n",
        "\n",
        "# Cari semua file CSV di folder\n",
        "all_files = [os.path.join(folder_path, f) for f in os.listdir(folder_path) if f.endswith('.csv')]\n",
        "\n",
        "# Gabung semua file\n",
        "df_list = []\n",
        "for file in all_files:\n",
        "    try:\n",
        "        df = pd.read_csv(file)\n",
        "        df_list.append(df)\n",
        "        print(f\" Loaded {file} ({df.shape[0]} rows)\")\n",
        "    except Exception as e:\n",
        "        print(f\" Error loading {file}: {e}\")\n",
        "\n",
        "# Concatenate semua dataframe\n",
        "combined_df = pd.concat(df_list, ignore_index=True)\n",
        "\n",
        "# Drop duplikat kalau ada\n",
        "#combined_df.drop_duplicates(inplace=True)\n",
        "\n",
        "# Drop duplikat hanya berdasarkan kolom 'title'\n",
        "combined_df.drop_duplicates(subset=['judul'], inplace=True)\n",
        "\n",
        "# Drop kolom tanggal\n",
        "# Check if the 'tanggal' column exists in the DataFrame's list of columns\n",
        "if 'tanggal' in combined_df.columns:\n",
        "  # If it exists, drop it\n",
        "  combined_df = combined_df.drop(columns=['tanggal'])\n",
        "\n",
        "# Save jadi 1 file\n",
        "output_path = os.path.join(folder_path, \"kompas_news.csv\")\n",
        "combined_df.to_csv(output_path, index=False, encoding='utf-8-sig')\n",
        "\n",
        "print(f\"/n Semua file berhasil digabung: {combined_df.shape[0]} rows disimpan ke {output_path}\")\n"
      ]
    },
    {
      "cell_type": "code",
      "execution_count": 3,
      "id": "8e53fc26",
      "metadata": {},
      "outputs": [
        {
          "name": "stdout",
          "output_type": "stream",
          "text": [
            "Jumlah judul unik: 942\n"
          ]
        }
      ],
      "source": [
        "# Cek jumlah judul unik\n",
        "n_unique_titles = combined_df['judul'].nunique()\n",
        "print(f\"Jumlah judul unik: {n_unique_titles}\")"
      ]
    }
  ],
  "metadata": {
    "kernelspec": {
      "display_name": "venv",
      "language": "python",
      "name": "python3"
    },
    "language_info": {
      "codemirror_mode": {
        "name": "ipython",
        "version": 3
      },
      "file_extension": ".py",
      "mimetype": "text/x-python",
      "name": "python",
      "nbconvert_exporter": "python",
      "pygments_lexer": "ipython3",
      "version": "3.12.3"
    }
  },
  "nbformat": 4,
  "nbformat_minor": 5
}
