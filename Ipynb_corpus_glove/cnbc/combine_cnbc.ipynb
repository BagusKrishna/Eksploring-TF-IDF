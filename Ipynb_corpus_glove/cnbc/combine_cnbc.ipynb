{
  "cells": [
    {
      "cell_type": "markdown",
      "id": "14ec28eb",
      "metadata": {},
      "source": [
        "## CNBC"
      ]
    },
    {
      "cell_type": "code",
      "execution_count": null,
      "id": "2fd0d147",
      "metadata": {},
      "outputs": [
        {
          "name": "stdout",
          "output_type": "stream",
          "text": [
            " Loaded /home/spil/1Bagus/BACKUP/TA/Multimodal_Process_Exploration/DATA/corpus/cnbc_news.csv (10941 rows)\n",
            " Loaded /home/spil/1Bagus/BACKUP/TA/Multimodal_Process_Exploration/DATA/corpus/cnbc_news_bankindonesia20251009_141630.csv (960 rows)\n",
            " Loaded /home/spil/1Bagus/BACKUP/TA/Multimodal_Process_Exploration/DATA/corpus/cnbc_news_bei20251009_143054.csv (1013 rows)\n",
            " Loaded /home/spil/1Bagus/BACKUP/TA/Multimodal_Process_Exploration/DATA/corpus/cnbc_news_birate20251009_142857.csv (948 rows)\n",
            " Loaded /home/spil/1Bagus/BACKUP/TA/Multimodal_Process_Exploration/DATA/corpus/cnbc_news_bursaefekindonesia20251009_142951.csv (995 rows)\n",
            " Loaded /home/spil/1Bagus/BACKUP/TA/Multimodal_Process_Exploration/DATA/corpus/cnbc_news_danantara20251009_140240.csv (1099 rows)\n",
            " Loaded /home/spil/1Bagus/BACKUP/TA/Multimodal_Process_Exploration/DATA/corpus/cnbc_news_ekonomidigital20251009_143358.csv (917 rows)\n",
            " Loaded /home/spil/1Bagus/BACKUP/TA/Multimodal_Process_Exploration/DATA/corpus/cnbc_news_ekonomiindonesia20251009_140426.csv (920 rows)\n",
            " Loaded /home/spil/1Bagus/BACKUP/TA/Multimodal_Process_Exploration/DATA/corpus/cnbc_news_ihsg20251009_111804.csv (50 rows)\n",
            " Loaded /home/spil/1Bagus/BACKUP/TA/Multimodal_Process_Exploration/DATA/corpus/cnbc_news_ihsg20251009_114018.csv (500 rows)\n",
            " Loaded /home/spil/1Bagus/BACKUP/TA/Multimodal_Process_Exploration/DATA/corpus/cnbc_news_ihsg20251009_120817.csv (1000 rows)\n",
            " Loaded /home/spil/1Bagus/BACKUP/TA/Multimodal_Process_Exploration/DATA/corpus/cnbc_news_ihsg20251009_135940.csv (1082 rows)\n",
            " Loaded /home/spil/1Bagus/BACKUP/TA/Multimodal_Process_Exploration/DATA/corpus/cnbc_news_inflasi20251009_141655.csv (840 rows)\n",
            " Loaded /home/spil/1Bagus/BACKUP/TA/Multimodal_Process_Exploration/DATA/corpus/cnbc_news_investasi20251009_135832.csv (914 rows)\n",
            " Loaded /home/spil/1Bagus/BACKUP/TA/Multimodal_Process_Exploration/DATA/corpus/cnbc_news_ojk20251009_141835.csv (1108 rows)\n",
            " Loaded /home/spil/1Bagus/BACKUP/TA/Multimodal_Process_Exploration/DATA/corpus/cnbc_news_pelemahanrupiah20251009_140247.csv (771 rows)\n",
            " Loaded /home/spil/1Bagus/BACKUP/TA/Multimodal_Process_Exploration/DATA/corpus/cnbc_news_perbankandigital20251009_141836.csv (1035 rows)\n",
            " Loaded /home/spil/1Bagus/BACKUP/TA/Multimodal_Process_Exploration/DATA/corpus/cnbc_news_pertumbuhanekonomi20251009_141721.csv (939 rows)\n",
            " Loaded /home/spil/1Bagus/BACKUP/TA/Multimodal_Process_Exploration/DATA/corpus/cnbc_news_reksadana_20251009_152800.csv (570 rows)\n",
            "\n",
            " Semua file berhasil digabung: 11480 rows disimpan ke /home/spil/1Bagus/BACKUP/TA/Multimodal_Process_Exploration/DATA/corpus/cnbc_news.csv\n"
          ]
        }
      ],
      "source": [
        "import os\n",
        "import pandas as pd\n",
        "\n",
        "# Path folder corpus\n",
        "folder_path = r'/home/spil/1Bagus/BACKUP/TA/Multimodal_Process_Exploration/DATA/corpus/cnbc'\n",
        "\n",
        "# Cari semua file CSV di folder\n",
        "all_files = [os.path.join(folder_path, f) for f in os.listdir(folder_path) if f.endswith('.csv')]\n",
        "\n",
        "# Gabung semua file\n",
        "df_list = []\n",
        "for file in all_files:\n",
        "    try:\n",
        "        df = pd.read_csv(file)\n",
        "        df_list.append(df)\n",
        "        print(f\" Loaded {file} ({df.shape[0]} rows)\")\n",
        "    except Exception as e:\n",
        "        print(f\" Error loading {file}: {e}\")\n",
        "\n",
        "# Concatenate semua dataframe\n",
        "combined_df = pd.concat(df_list, ignore_index=True)\n",
        "\n",
        "# Drop duplikat kalau ada\n",
        "#combined_df.drop_duplicates(inplace=True)\n",
        "\n",
        "# Drop duplikat hanya berdasarkan kolom 'title'\n",
        "combined_df.drop_duplicates(subset=['judul'], inplace=True)\n",
        "\n",
        "# Drop kolom tanggal\n",
        "combined_df = combined_df.drop(columns=['tanggal'])\n",
        "\n",
        "# Save jadi 1 file\n",
        "output_path = os.path.join(folder_path, \"cnbc_news.csv\")\n",
        "combined_df.to_csv(output_path, index=False, encoding='utf-8-sig')\n",
        "\n",
        "print(f\"/n Semua file berhasil digabung: {combined_df.shape[0]} rows disimpan ke {output_path}\")\n"
      ]
    },
    {
      "cell_type": "code",
      "execution_count": 2,
      "id": "8e53fc26",
      "metadata": {},
      "outputs": [
        {
          "name": "stdout",
          "output_type": "stream",
          "text": [
            "Jumlah judul unik: 11480\n"
          ]
        }
      ],
      "source": [
        "# Cek jumlah judul unik\n",
        "n_unique_titles = combined_df['judul'].nunique()\n",
        "print(f\"Jumlah judul unik: {n_unique_titles}\")"
      ]
    }
  ],
  "metadata": {
    "kernelspec": {
      "display_name": "Python 3",
      "language": "python",
      "name": "python3"
    },
    "language_info": {
      "codemirror_mode": {
        "name": "ipython",
        "version": 3
      },
      "file_extension": ".py",
      "mimetype": "text/x-python",
      "name": "python",
      "nbconvert_exporter": "python",
      "pygments_lexer": "ipython3",
      "version": "3.13.1"
    }
  },
  "nbformat": 4,
  "nbformat_minor": 5
}
