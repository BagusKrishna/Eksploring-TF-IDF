{
 "cells": [
  {
   "cell_type": "markdown",
   "id": "7e6c8940",
   "metadata": {},
   "source": [
    "### Eksploring CNN-BiGRU model"
   ]
  },
  {
   "cell_type": "markdown",
   "id": "170139bc",
   "metadata": {},
   "source": [
    " In Progress Soon Update"
   ]
  },
  {
   "cell_type": "markdown",
   "id": "78b779dc",
   "metadata": {},
   "source": []
  }
 ],
 "metadata": {
  "language_info": {
   "name": "python"
  }
 },
 "nbformat": 4,
 "nbformat_minor": 5
}
